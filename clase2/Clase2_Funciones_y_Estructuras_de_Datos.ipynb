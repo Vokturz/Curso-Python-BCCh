{
  "nbformat": 4,
  "nbformat_minor": 0,
  "metadata": {
    "colab": {
      "provenance": [],
      "include_colab_link": true
    },
    "kernelspec": {
      "name": "python3",
      "display_name": "Python 3"
    },
    "language_info": {
      "name": "python"
    }
  },
  "cells": [
    {
      "cell_type": "markdown",
      "metadata": {
        "id": "view-in-github",
        "colab_type": "text"
      },
      "source": [
        "<a href=\"https://colab.research.google.com/github/Vokturz/Curso-Python-BCCh/blob/main/clase2/Clase2_Funciones_y_Estructuras_de_Datos.ipynb\" target=\"_parent\"><img src=\"https://colab.research.google.com/assets/colab-badge.svg\" alt=\"Open In Colab\"/></a>"
      ]
    },
    {
      "cell_type": "markdown",
      "source": [
        "# Funciones\n",
        "\n",
        "Una función es un aspecto fundamental en la programación. Consiste en un bloque de código que realiza una tarea en específica, y que puede ser reutilizado en cualquier momento.\n",
        "\n",
        "Una función posee tres componentes:\n",
        "- `identificador` : El nombre de la función\n",
        "- `argumento(s)` : Valores de entrada pa la función\n",
        "- `resultado` : Valor(es) que devuelve la función\n",
        "\n",
        "A continuación la sintaxis de una funcion\n",
        "```python\n",
        "def identificador(argumento):\n",
        "  ... # hacer algo con el valor argumento\n",
        "  resultado = ... # definir un resultado\n",
        "  return resultado # devolver un resultado\n",
        "```\n",
        "\n",
        "Podemos volver al ejemplo de la Clase 1:"
      ],
      "metadata": {
        "id": "gYYTQ97Y44oW"
      }
    },
    {
      "cell_type": "code",
      "source": [
        "# Notar que no definimos explicitamente un valor de retorno\n",
        "def es_par(numero):\n",
        "  if numero % 2 == 0:\n",
        "    return f\"El número {numero} es par\"\n",
        "  else:\n",
        "    return f\"El número {numero} es impar\"\n",
        "\n",
        "un_numero = 25\n",
        "resultado = es_par(un_numero)\n",
        "print(resultado)"
      ],
      "metadata": {
        "id": "SRE9eGTj42BZ"
      },
      "execution_count": null,
      "outputs": []
    },
    {
      "cell_type": "code",
      "execution_count": null,
      "metadata": {
        "id": "zkckkPYc3tQu"
      },
      "outputs": [],
      "source": [
        "# Una vez definida la función podemos usarla en cualquier lado\n",
        "# Podemos usar la función dentro de un ciclo for\n",
        "for numero in [0, 5, 435346, 9999999999]:\n",
        "  print(es_par(numero))"
      ]
    },
    {
      "cell_type": "code",
      "source": [
        "# Las funciones pueden tener más de un argumento:\n",
        "def potencia(x,y):\n",
        "  return x**y\n",
        "\n",
        "tipo_potencia = type(potencia)\n",
        "print('La funcion potencia es del tipo', tipo_potencia)\n",
        "print(potencia(7,2))"
      ],
      "metadata": {
        "id": "cTNo-y2p42sA"
      },
      "execution_count": null,
      "outputs": []
    },
    {
      "cell_type": "code",
      "source": [
        "# En algunos casos, las funciones no tienen porqué devolver un resultado\n",
        "def hola_mundo():\n",
        "  print(\"Hola Mundo!\")\n",
        "  return\n",
        "\n",
        "resultado = hola_mundo()\n",
        "print(resultado) # Resultado no tiene valor"
      ],
      "metadata": {
        "id": "mq_4rcnCCUU6"
      },
      "execution_count": null,
      "outputs": []
    },
    {
      "cell_type": "markdown",
      "source": [
        "Existen buenas prácticas al momento de crear una función en Python. Una de ellas es agregar documentación o *docstring*, el cual se define con un string:\n",
        "\n",
        "```python\n",
        "# Una documentación suficiente\n",
        "def potencia(x,y):\n",
        "  \"\"\"Retorna la potencia de x elevado a y\"\"\"\n",
        "  return x**y\n",
        "\n",
        "# Una documentación más robusta\n",
        "def potencia(x,y):\n",
        "  \"\"\"\n",
        "  Retorna la potencia de x elevado a y\n",
        "\n",
        "  Parametros:\n",
        "  ----------\n",
        "    x (float) : Base de la potencia\n",
        "    y (float) : Exponente de la potencia\n",
        "\n",
        "  Retorna:\n",
        "  --------\n",
        "    resultado (float): Resultado de elevar la base al exponente\n",
        "  \"\"\"\n",
        "  resultado = x**y\n",
        "  return resultado\n",
        "```\n",
        "\n",
        "En general, se recomienda usar un docstring simple para funciones cortas, mientras que para funciones con muchos parámetros y/o más complejas se recomienda la otra forma.\n",
        "\n",
        "El docstring de una función permite a los usuarios entender qué hace la función sin tener que interpretar cada linea de código. En particular, se puede acceder al docstring de una función usando `help`"
      ],
      "metadata": {
        "id": "Ya-cbDNd9Xjv"
      }
    },
    {
      "cell_type": "code",
      "source": [
        "# Volvemos a crear la función\n",
        "def potencia(x,y):\n",
        "  \"\"\"\n",
        "  Retorna la potencia de x elevado a y\n",
        "\n",
        "  Parametros:\n",
        "  ----------\n",
        "    x (float) : Base de la potencia\n",
        "    y (float) : Exponente de la potencia\n",
        "\n",
        "  Retorna:\n",
        "  --------\n",
        "    resultado (float): Resultado de elevar la base al exponente\n",
        "  \"\"\"\n",
        "  resultado = x**y\n",
        "  return resultado\n",
        "\n",
        "help(potencia)"
      ],
      "metadata": {
        "id": "eP6oIgXb9fUV"
      },
      "execution_count": null,
      "outputs": []
    },
    {
      "cell_type": "markdown",
      "source": [
        "## Función Input\n",
        "La función `input` permite recibir información del usuario y almacenarla en una variable. La sintaxis es la siguiente\n",
        "```python\n",
        "variable = input(\"Mensaje opcional al usuario:\")\n",
        "```  \n",
        "\n",
        "Es importante mencionar que la variable siempre será del tipo *string*, por lo que si se quiere usar otro tipo, entonces hay que convertirla usando `int(variable)`, `float(variable)`, etc."
      ],
      "metadata": {
        "id": "Wad8EeK3h_cW"
      }
    },
    {
      "cell_type": "code",
      "source": [
        "# Ejemplo\n",
        "nombre = input(\"Introduce tu nombre: \")\n",
        "print(\"¡Hola, \" + nombre + \"!\")"
      ],
      "metadata": {
        "id": "g12E23y5h-96"
      },
      "execution_count": null,
      "outputs": []
    },
    {
      "cell_type": "code",
      "source": [
        "# Ejemplo con una función\n",
        "def potencia():\n",
        "  base = float(input(\"Ingrese la Base: \"))\n",
        "  exponente = float(input(\"Ingrese el exponente: \"))\n",
        "  resultado = base**exponente\n",
        "  print(f\"{base} elevado a {exponente} = {resultado}\")\n",
        "\n",
        "potencia()\n"
      ],
      "metadata": {
        "id": "xpCsPl9Sitsc"
      },
      "execution_count": null,
      "outputs": []
    },
    {
      "cell_type": "markdown",
      "source": [
        "### Recursión en funciones\n",
        "\n",
        "Un concepto no menos importante es el de *función recursiva*. Una función recursiva resuelve un problema llamándose a sí misma con argumentos que van siendo modificados en cada paso. Cada vez que la función se llama a sí misma, se acerca a una condición de parada que detiene la recursión. Sin esta condición de parada, la recursión continuaría indefinidamente.\n",
        "\n",
        "Hay dos componentes claves en una función recursiva:\n",
        "- Caso base o condición de parada: Indica cuando se debe detener la recursión\n",
        "- Llamada recursiva: El cuerpo de la función\n",
        "\n",
        "A continuación un ejemplo:"
      ],
      "metadata": {
        "id": "XWz-38FrDd5z"
      }
    },
    {
      "cell_type": "code",
      "source": [
        "def factorial(n): # n!\n",
        "    # Caso base\n",
        "    if n == 0:\n",
        "        return 1\n",
        "    # Llamada recursiva\n",
        "    else:\n",
        "        return n * factorial(n - 1)\n",
        "\n",
        "print(factorial(3)) # Lo mismo que 3*2*1"
      ],
      "metadata": {
        "id": "V_3AR1mmE05N"
      },
      "execution_count": null,
      "outputs": []
    },
    {
      "cell_type": "markdown",
      "source": [
        "Diagrama de pila:\n",
        "```python\n",
        "factorial(3)\n",
        "|   3 * factorial(2)\n",
        "|   |   2 * factorial(1)\n",
        "|   |   |   1 * factorial(0)\n",
        "|   |   |   | 1\n",
        "|   |   |   1\n",
        "|   |   2\n",
        "|   6\n",
        "6\n",
        "```"
      ],
      "metadata": {
        "id": "iSDEt6v7HYjW"
      }
    },
    {
      "cell_type": "markdown",
      "source": [
        "# Estructuras de datos\n",
        "\n",
        "## Listas\n",
        "Una lista corresponde a una colección ordenada de elementos, los cuales puenden ser de cualquier tipo. Si recuerdan, en la clase anterior usamos una lista para los ciclos `for`.\n",
        "\n",
        "Principales características de las listas:\n",
        "- *Ordenadas*: Los elementos en una lista están ordenados y se pueden acceder por su posición en la lista.\n",
        "- *Mutables*: Se pueden cambiar, agregar o eliminar elementos de una lista después de crearla.\n",
        "- *Elementos duplicados*: Las listas permiten elementos duplicados\n",
        "\n",
        "La posición de un elemento es conocida como *índice*. En Python, así como en la mayoría de lenguajes de programación, el primer índice corresponde al **0**. Así, se puede entender que el *n-ésimo* elemento de una lista tendrá el índice *n-1*.\n",
        "\n",
        "\n"
      ],
      "metadata": {
        "id": "jhCG3ssbCBrb"
      }
    },
    {
      "cell_type": "code",
      "source": [
        "lista = [2, 3.5, True, \"Hola\", 3.5]\n",
        "\n",
        "print(lista[0]) # primer elemento de la lista\n",
        "print(lista[3]) # cuarto elemento de la lista"
      ],
      "metadata": {
        "id": "r6CIrUO-BkJx"
      },
      "execution_count": null,
      "outputs": []
    },
    {
      "cell_type": "markdown",
      "source": [
        "Una característica interesante de las listas en Python es que se pueden usar *índices negativos*, los cuales permiten a acceder a los elementos de derecha a izquierda:"
      ],
      "metadata": {
        "id": "JLGIr0JfIfAZ"
      }
    },
    {
      "cell_type": "code",
      "source": [
        "print(lista[-1]) # último valor\n",
        "print(lista[-2]) # penúltimo valor"
      ],
      "metadata": {
        "id": "sgHvWdJSCB_R"
      },
      "execution_count": null,
      "outputs": []
    },
    {
      "cell_type": "markdown",
      "source": [
        "Las listas permiten operaciones comunes, como agregar un elemento a una lista , modificar un valor, o eliminar uno."
      ],
      "metadata": {
        "id": "1oXKTe7FJWcL"
      }
    },
    {
      "cell_type": "code",
      "source": [
        "lista = [2, 3.5, True, \"Hola\", 3.5]\n",
        "print(\"         Lista original:\", lista)\n",
        "\n",
        "lista.append(6) # Agregamos un elemento\n",
        "print(\"  Agregamos un elemento:\", lista)\n",
        "\n",
        "lista[1] = 0 # Modificamos un elemento\n",
        "print(\"Modificamos un elemento:\", lista)\n",
        "\n",
        "lista.remove(True) # Eliminamos un elemento segun su valor\n",
        "print(\" Eliminamos un elemento:\", lista)\n",
        "\n",
        "lista.pop(0) # Eliminamos un elemento según su índice\n",
        "print(\" Eliminamos un elemento:\", lista)\n",
        "\n",
        "print(\"      Largo de la lista:\", len(lista))"
      ],
      "metadata": {
        "id": "_WqeROkQJBL-"
      },
      "execution_count": null,
      "outputs": []
    },
    {
      "cell_type": "markdown",
      "source": [
        "## Tuplas\n",
        "\n",
        "Las tuplas son muy similares a las listas, pero con dos grandes diferencias. Son **inmutables**, es decir, no pueden ser modificadas una vez declaradas, y son inicializadas usando paréntesis `()` en vez de corchetes `[]`"
      ],
      "metadata": {
        "id": "vLFZvJDKMdhp"
      }
    },
    {
      "cell_type": "code",
      "source": [
        "tupla = (1, 2, 3, 2, 1)\n",
        "print(tupla)\n",
        "print(tupla[0]) # Primer elemento"
      ],
      "metadata": {
        "id": "R31fXzdMM_A8"
      },
      "execution_count": null,
      "outputs": []
    },
    {
      "cell_type": "markdown",
      "source": [
        "## Diccionarios\n",
        "Un diccionario en Python es una colección no ordenada de pares clave-valor. Cada elemento tiene una clave única que se utiliza para acceder a su valor correspondiente. Los diccionarios se definien utilizando llaves `{}` junto a los pares clave-valor separados por coma, por ejemplo\n",
        "\n",
        "```python\n",
        "un_diccionario = {\"nombre\": \"Victor\", \"apellido\": \"Navarro\", \"numero\": 912345678}\n",
        "```\n",
        "\n",
        "Principales características de los diccionarios:\n",
        "- *No ordenados*: Los elementos en un diccionario no tienen un orden específico y no se pueden acceder por posición.\n",
        "- *Mutables*: Puedes modificar los valores asociados a las claves.\n",
        "- *Claves únicas*: Cada clave en un diccionario debe ser única.\n",
        "\n",
        "A continuación se muestran las operaciones más comunes sobre diccionarios:"
      ],
      "metadata": {
        "id": "TtIFVYo6MOJC"
      }
    },
    {
      "cell_type": "code",
      "source": [
        "un_diccionario = {\"nombre\": \"Victor\", \"numero\": 912345678}\n",
        "print(\"   Diccionario original:\", un_diccionario)\n",
        "\n",
        "print(\"    Accedemos al nombre: \", un_diccionario[\"nombre\"])\n",
        "# Otra forma de acceder a un elemento es usar get: un_diccionario.get(\"nombre\")\n",
        "\n",
        "un_diccionario[\"correo\"] = \"vnavarro@udd.cl\" # Agregamos un elemento\n",
        "print(\"  Agregamos un elemento:\", un_diccionario)\n",
        "\n",
        "un_diccionario[\"numero\"] = 987654321 # Modificamos un elemento\n",
        "print(\"Modificamos un elemento:\", un_diccionario)\n",
        "\n",
        "un_diccionario.pop(\"correo\") # Eliminamos un elemento segun su valor\n",
        "print(\" Eliminamos un elemento:\", un_diccionario)\n",
        "\n",
        "del un_diccionario[\"numero\"] # Otra forma de borrar un elemento, puede ser de cualquier tipo\n",
        "print(\" Eliminamos un elemento:\", un_diccionario)\n",
        "print(\"      Largo de la lista:\", len(un_diccionario))"
      ],
      "metadata": {
        "id": "-LyrjoDEND2k"
      },
      "execution_count": null,
      "outputs": []
    },
    {
      "cell_type": "markdown",
      "source": [
        "## Conjuntos\n",
        "\n",
        "Un conjunto representa una colección de elementos únicos y no ordenados. Para crear un conjunto se utilizan llaves `{}`, o bien la función `set()` sobre una lista de lementos únicos:\n",
        "\n",
        "```python\n",
        "un_conjunto = {1,2,3}\n",
        "otro_conjunto = set([3,4,5])\n",
        "```\n",
        "\n",
        "Los conjuntos son mutables, por lo que se pueden agregar o eliminar elementos después de crearlos"
      ],
      "metadata": {
        "id": "xFirRc7jTJlo"
      }
    },
    {
      "cell_type": "code",
      "source": [
        "un_conjunto = {1, 2, 3}\n",
        "print(\"      Conjunto original:\", un_conjunto)\n",
        "\n",
        "un_conjunto.add(4) # Agregamos un elemento\n",
        "print(\"  Agregamos un elemento:\", un_conjunto)\n",
        "\n",
        "un_conjunto.remove(2) # Eliminamos un elemento\n",
        "print(\" Eliminamos un elemento:\", un_conjunto)\n",
        "\n",
        "# No podemos acceder a un elemento de un conjunto, pero si\n",
        "# podemos ver si está dentro\n",
        "print(\"Comprobamos si 4 está dentro:\", 4 in un_conjunto)\n",
        "\n"
      ],
      "metadata": {
        "id": "mT6KrtTxUL6y"
      },
      "execution_count": null,
      "outputs": []
    },
    {
      "cell_type": "markdown",
      "source": [
        "Tabla resumen\n",
        "\n",
        "| Característica | Lista   | Tupla    | Diccionario| Conjunto |\n",
        "|----------|---------|-----------|------------| ----- |\n",
        "| Sintaxis               | `[elemento1, elemento2, ...]` | `(elemento1, elemento2, ...)` | `{clave1: valor1, clave2: valor2, ...}` | `{elemento1, elemento2, ...}`\n",
        "| Mutabilidad            | Sí | No | Sí | Sí |\n",
        "| Ordenada               | Sí | Sí | No | No |\n",
        "| Acceso por índice      | Sí | Sí | No (acceso por clave) | No |\n",
        "| Elementos duplicados   | Sí | Sí | No | No|\n",
        "| Usado para almacenar   | colecciones de elementos | elementos no modificables  |  pares clave-valor   | elementos únicos |\n",
        "| Agregar | `lista.append(nuevo_valor)` | No se puede | `dicc[\"nueva_clave\"] = nuevo_valor` | `conjunto.add(nuevo_valor` |\n",
        "| Modificar  | `lista[0] = nuevo_valor`     | No se puede  | `dicc[\"clave1\"] = nuevo_valor` | No se puede |\n",
        "| Eliminar | `lista.remove(elemento)` | No se puede | `del lista[\"clave\"]` | `conjunto.pop(elemento)`|\n",
        "| Iteración | `for elemento in lista`  | `for elemento in tupla`  | `for clave in diccionario` | `for elemento in conjunto` |\n",
        "\n",
        "Cabe recordar que cada una de estas estructuras de datos soporta cualquier tipo de elemento, esto significa que, ¡aceptan incluso estructuras de datos como ellos!\n"
      ],
      "metadata": {
        "id": "jy25c7RKPZ9A"
      }
    },
    {
      "cell_type": "code",
      "source": [
        "dicc_con_listas = {\"clave1\" : [1,2,3,4],\n",
        "                   \"clave2\" : [5,6,7,8]}\n",
        "for k in dicc_con_listas:\n",
        "  print(k, dicc_con_listas[k])\n",
        "print('---')\n",
        "\n",
        "# otra forma de hacer el mismo ciclo for\n",
        "for k, v in dicc_con_listas.items(): # k = key, v = value\n",
        "  print(k, v)"
      ],
      "metadata": {
        "id": "0UwVtW0oXhBw"
      },
      "execution_count": null,
      "outputs": []
    },
    {
      "cell_type": "code",
      "source": [
        "una_matriz = [[1, 2, 3], [4, 5, 6], [7, 8, 9]]\n",
        "for fila in una_matriz:\n",
        "  print(fila)\n",
        "\n",
        "# Podemos iterar sobre filas y columnas usando los indices\n",
        "largo_filas = len(una_matriz)\n",
        "largo_columnas = len(una_matriz[0])\n",
        "for i in range(largo_filas):\n",
        "  print('---')\n",
        "  for j in range(largo_columnas):\n",
        "    print(f'i={i}, j={j}:', una_matriz[i][j])\n"
      ],
      "metadata": {
        "id": "W6xt7lGpXdAJ"
      },
      "execution_count": null,
      "outputs": []
    },
    {
      "cell_type": "markdown",
      "source": [
        "### Algunos ejercicios\n",
        "\n",
        "1. Dado un diccionario de indicadores mensuales, defina\n",
        " - Una función que calcule la media de un indicador dada una clave\n",
        " - Una función que, dado un indicador, retorne el mes más bajo. Asuma que la lista de cada indicador está ordenada de Enero a Junio\n"
      ],
      "metadata": {
        "id": "8Hl6XuSBjjRq"
      }
    },
    {
      "cell_type": "code",
      "source": [
        "# Los indicadores estan ordenados de Enero a Junio\n",
        "indicadores_mensuales = {\n",
        "      \"IPC\": [0.8, -0.1, 1.1, 0.3, 0.1, -0.2],\n",
        "      \"Tasa de Desempleo\": [8.04, 8.37, 8.81, 8.66, 8.52, 8.53],\n",
        "      \"Imacec\": [0.2, -0,5, -2.1, -0.9, -0.8]\n",
        "  }\n",
        "\n",
        "indice_meses = {0: \"Enero\",\n",
        "                1: \"Febrero\",\n",
        "                2: \"Marzo\",\n",
        "                3: \"Abril\",\n",
        "                4: \"Mayo\",\n",
        "                5: \"Junio\"}\n",
        "\n",
        "def calcular_media(indicadores, clave):\n",
        "  \"\"\"Calcula la media de un indicador\"\"\"\n",
        "  # hint: La suma de una lista se puede calcular usando la funcion sum(lista)\n",
        "  media = 0 # Reemplazar!\n",
        "  return round(media, 2)\n",
        "\n",
        "\n",
        "def mes_minimo(indicadores, clave, indice_meses):\n",
        "  \"\"\"Retorna el mes donde el indicador fue mínimo\"\"\"\n",
        "  largo_indicador = len(indicadores[clave])\n",
        "  minimo_actual = 99999 # valor inicial\n",
        "  indice_mes_minimo = 0 # valor inicial\n",
        "  for i in range(largo_indicador):\n",
        "    pass # Borrar esto!\n",
        "    # Si el valor actual es menor al minimo\n",
        "    # Actualizar el minimo y el indice\n",
        "\n",
        "    # Si no, no hacer nada\n",
        "  return indice_meses[indice_mes_minimo]\n",
        "\n",
        "assert calcular_media(indicadores_mensuales, \"IPC\") == 0.33, \"Media IPC incorrecta\"\n",
        "assert mes_minimo(indicadores_mensuales, \"Imacec\", indice_meses) == \"Marzo\", \"Incorrecto\"\n"
      ],
      "metadata": {
        "id": "jR68fgySfdTF"
      },
      "execution_count": null,
      "outputs": []
    },
    {
      "cell_type": "markdown",
      "source": [
        "2. Calcule la variación porcentual de una lista de intereses anuales. La fórmula de la variación porcentual es\n",
        "\n",
        "$\\Large\\Delta \\%_\\text{actual} = \\frac{\\text{periodo actual} - \\text{periodo anterior}}{\\text{periodo anterior}} \\times 100 $\n"
      ],
      "metadata": {
        "id": "tMTZhy2JkgeS"
      }
    },
    {
      "cell_type": "code",
      "source": [
        "# Tasas de interes anuales\n",
        "tasas_interes = [2.5, 2.6, 2.7, 2.5, 2.8, 2.9]\n",
        "\n",
        "def calcular_variacion(tasas):\n",
        "  \"\"\"Calcula la variacion porcentual de un año a otro en las tasas\"\"\"\n",
        "  variaciones = []\n",
        "  for i in range(1, len(tasas)):\n",
        "    pass # Borrar esta parte!\n",
        "    # calcular variacion entre un año y el siguiente\n",
        "    # agregar valor a variaciones\n",
        "\n",
        "  return [round(var, 1) for var in variaciones]\n",
        "\n",
        "# Si todo está en orden no debería aparecer un error\n",
        "assert calcular_variacion(tasas_interes) == [4, 3.8, -7.4, 12, 3.6], \"Incorrecto\""
      ],
      "metadata": {
        "id": "3ueexTMOdPtp"
      },
      "execution_count": null,
      "outputs": []
    },
    {
      "cell_type": "markdown",
      "source": [
        "## Más ejercicios (Inglés)\n",
        "- [W3Schools](https://www.w3schools.com/python/exercise.asp) contiene ejercicios simples sobre lo visto en estas dos clases\n",
        "- [W3Resource](https://www.w3resource.com/python-exercises/python-functions-exercises.php) tiene ejercicios sobre funciones bastante interesantes"
      ],
      "metadata": {
        "id": "_MBkHr8KZ_ai"
      }
    }
  ]
}
