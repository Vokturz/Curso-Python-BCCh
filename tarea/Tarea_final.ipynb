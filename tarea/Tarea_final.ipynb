{
  "nbformat": 4,
  "nbformat_minor": 0,
  "metadata": {
    "colab": {
      "provenance": [],
      "authorship_tag": "ABX9TyNSi5SbHpQ5dgXxj64JK59g",
      "include_colab_link": true
    },
    "kernelspec": {
      "name": "python3",
      "display_name": "Python 3"
    },
    "language_info": {
      "name": "python"
    }
  },
  "cells": [
    {
      "cell_type": "markdown",
      "metadata": {
        "id": "view-in-github",
        "colab_type": "text"
      },
      "source": [
        "<a href=\"https://colab.research.google.com/github/Vokturz/Curso-Python-BCCh/blob/main/tarea/Tarea_final.ipynb\" target=\"_parent\"><img src=\"https://colab.research.google.com/assets/colab-badge.svg\" alt=\"Open In Colab\"/></a>"
      ]
    },
    {
      "cell_type": "markdown",
      "source": [
        "# Ejercicio 1\n",
        "\n",
        "Decimos que una palabra es palíndromo si esta se lee igual hacia adelante y hacia atrás. Algunos ejemplos son\n",
        "- radar\n",
        "- anilina\n",
        "- reconocer\n",
        "- somos\n",
        "- arenera\n",
        "\n",
        "Vamos a escribir una función que, dado un string, diga si la palabra es o no es un palíndromo\n",
        "\n",
        "*Hint 1: ¿sabías que un string tiene propiedades similares a una lista en Python?\n",
        "por ejemplo el string `un_string = \"radar\"` tiene como primer elemento `un_string[0] = r`, segundo elemento `un_string[1] = a` y así.*\n",
        "\n",
        "*Hint 2: ¡En Python existe una forma muy sencilla de dar vuelta una lista!*"
      ],
      "metadata": {
        "id": "Y-8_8sUl5Pv7"
      }
    },
    {
      "cell_type": "code",
      "source": [
        "def es_palindromo(un_string):\n",
        "  \"\"\"Determina si un_string es o no palindromo\"\"\"\n",
        "  # hacer algo con un_string\n",
        "  # retornar un booleano\n",
        "\n",
        "############################\n",
        "## NO MODIFICAR ESTE APARTADO\n",
        "## Si las definiciones están correctas, entonces esto no debería mostrar error\n",
        "assert es_palindromo(\"bala\") == False, \"No es Palindromo\"\n",
        "assert es_palindromo(\"palindromo\") == False, \"No es Palindromo\"\n",
        "assert es_palindromo(\"alas\") == False, \"No es Palindromo\"\n",
        "assert es_palindromo(\"radar\") == True, \"Si es Palindromo\"\n",
        "assert es_palindromo(\"somos\") == True, \"Si es Palindromo\"\n",
        "assert es_palindromo(\"reconocer\") == True, \"Si es Palindromo\"\n",
        "anita = \"anita lava la tina\"\n",
        "anita_sin_espacios = anita.replace(\" \", \"\")\n",
        "assert es_palindromo(anita_sin_espacios) == True, \"Si es Palindromo\""
      ],
      "metadata": {
        "id": "0ipNgmvT5ZYC"
      },
      "execution_count": null,
      "outputs": []
    },
    {
      "cell_type": "markdown",
      "source": [
        "# Ejercicio 2\n",
        "\n",
        "1. Dado un diccionario de indicadores mensuales, defina\n",
        " - Una función que calcule la media de un indicador dada una clave\n",
        " - Una función que, dado un indicador, retorne el mes más alto. Asuma que la lista de cada indicador está ordenada de Julio a Diciembre\n",
        " - Una función que, dado un indicador, calcule la variación porcentual promedio de dicho indicador a lo largo de los meses.\n",
        "\n",
        " Le puede ser útil recordar que:\n",
        "\n",
        "   $\\Large\\text{Promedio} = \\frac{\\sum_i \\text{elemento}_i}{N}$\n",
        "\n",
        "   $\\Large\\Delta \\%_\\text{actual} = \\frac{\\text{periodo actual} - \\text{periodo anterior}}{\\text{periodo anterior}} \\times 100 $\n",
        "\n",
        "\n",
        "Se recomienda responder este ejercicio usando NumPy.\n"
      ],
      "metadata": {
        "id": "4Ndna3uW5XTX"
      }
    },
    {
      "cell_type": "code",
      "execution_count": null,
      "metadata": {
        "id": "LfQpEH_72rpM"
      },
      "outputs": [],
      "source": [
        "import numpy as np\n",
        "\n",
        "# Los indicadores están ordenados de Julio a Diciembre\n",
        "indicadores_mensuales = {\n",
        "    \"Tasa de Interés\": [1.5, 1.7, 1.6, 1.4, 1.3, 1.4],\n",
        "    \"Inflación\": [2.5, 2.7, 2.4, 2.1, 2.2, 2.3],\n",
        "    \"Crecimiento PIB\": [3.1, -1.5, 0.5, 1.0, 0.8, -0.4]\n",
        "}\n",
        "\n",
        "indice_meses_semestre = [\"Julio\", \"Agosto\", \"Septiembre\",\n",
        "                         \"Octubre\", \"Noviembre\", \"Diciembre\"]\n",
        "\n",
        "def mes_maximo(indicadores, clave, indice_meses):\n",
        "    \"\"\"Retorna el mes donde el indicador fue máximo\"\"\"\n",
        "    # determinar el indice máximo\n",
        "    indice_mes_maximo = 0 # Reemplazar\n",
        "    # retornar el mes cuyo indice es máximo\n",
        "    return indice_meses[indice_mes_maximo] # no modificar\n",
        "\n",
        "def variacion_porcentual_promedio(indicadores, clave):\n",
        "    \"\"\"Calcula la variación porcentual promedio entre meses consecutivos para un indicador\"\"\"\n",
        "    # calcule todas las variaciones\n",
        "    variacion_promedio = 0 # calcule la variacion promedio\n",
        "    return variacion_promedio.round(2).tolist() # no modificar\n",
        "\n",
        "############################\n",
        "## NO MODIFICAR ESTE APARTADO\n",
        "## Si las definiciones están correctas, entonces esto no debería mostrar error\n",
        "assert mes_maximo(indicadores_mensuales, \"Tasa de Interés\", indice_meses_semestre) == \"Agosto\", \"Incorrecto\"\n",
        "assert variacion_porcentual_promedio(indicadores_mensuales, \"Inflación\") == -1.26, \"Variación porcentual incorrecta\"\n"
      ]
    },
    {
      "cell_type": "markdown",
      "source": [
        "# Ejercicio 3: Merge de DataFrames\n",
        "\n",
        "Hay dos DataFrames, uno con la información de distintos estudiantes, y otro con la información de su nota en el examen de matemáticas. Ambos DataFrames tienen la columna ID en común\n",
        "\n",
        "*DataFrame 1*: Información de Estudiantes\n",
        "\n",
        "ID | Nombre  | Curso\n",
        "---|--------|------\n",
        "1  | Juan   | 4° A\n",
        "2  | Ana    | 4° B\n",
        "3  | Pedro  | 3° A\n",
        "4  | Lucia  | 3° B\n",
        "5  | Carmen | 2° A\n",
        "\n",
        "*DataFrame 2*: Informacion Notas por ID\n",
        "\n",
        "ID | Materia | Nota\n",
        "---|---------|-----\n",
        "1  | Mat     | 6.5\n",
        "3  | Mat     | 5.8\n",
        "2  | Mat     | 6.0\n",
        "5  | Mat     | 6.7\n",
        "\n",
        "**Instrucciones**:\n",
        "1. Cree los dos DataFrames anteriores usando Pandas. Puede partir creando un diccionario para cada uno y luego transformar ello a un DataFrame.\n",
        "2. Hasga un merge de ambos DataFrames usando la columna ID como clave. El resultado debe contener sólo los estudiantes que tengan una nota registrada.\n",
        "3. Defina `\"Nombre\"` como el indice del resultado y obtenga cual es la nota de Juan.\n",
        "4. Calcula la nota promedio de todos los estudiantes\n",
        "5. Cuenta la cantidad de estudiantes de cada curso y que tienen nota"
      ],
      "metadata": {
        "id": "Lw8Cshuu9J2k"
      }
    },
    {
      "cell_type": "code",
      "source": [
        "import pandas as pd\n",
        "\n",
        "# 1. Crear DataFrames\n",
        "df_estudiantes = pd.DataFrame(None) # Rellenar con un diccionario\n",
        "\n",
        "df_notas = pd.DataFrame(None) # Rellenar con un diccionario\n",
        "\n",
        "# 2. Merge de DataFrames\n",
        "df_resultado = pd.DataFrame(None)  # Reemplazar por pd.merge(...)\n",
        "dimensiones_resultado = df_resultado.shape\n",
        "\n",
        "#  3. Setear el indice\n",
        "df_resultado = df_resultado # defina Nombre como indice\n",
        "nota_de_juan = 0 # Reemplazar con algo\n",
        "\n",
        "# 4. Calcular el promedio en notas\n",
        "promedio = 0 # Reemplazar con algo\n",
        "\n",
        "# 5. Determina la cantidad final de estudiantes por curso\n",
        "estudiantes_curso_cnt = [] # Reemplazar con algo\n",
        "\n",
        "############################\n",
        "## NO MODIFICAR ESTE APARTADO\n",
        "## Si las definiciones están correctas, entonces esto no debería mostrar error\n",
        "assert dimensiones_resultado == (4,5), \"Merge incorrecto\"\n",
        "assert nota_de_juan == 6.5, \"Nota de Juan incorrecta\"\n",
        "assert round(promedio, 2) == 6.25, \"Promedio incorrecto\"\n",
        "assert list(estudiantes_curso_cnt) == [1,1,1,1], \"Conteo de estudiantes incorrecto\""
      ],
      "metadata": {
        "id": "D1eQx4T22-c4"
      },
      "execution_count": null,
      "outputs": []
    },
    {
      "cell_type": "markdown",
      "source": [
        "# Ejercicio 4: Todo en un mismo gráfico\n",
        "\n",
        "El archivo [`monedas_lat_usd.csv`](https://raw.githubusercontent.com/Vokturz/Curso-Python-BCCh/main/tarea/monedas_lat_usd.csv) contiene la conversión dolar Estadounidense a distintas monedas de Latinoamérica en distintos años.\n",
        "\n",
        "La idea de este ejercicio es leer el archivo con Pandas y graficar cada una de las monedas con un gráfico de linea, todo sobre la misma figura y usando una escala logarítmica.\n",
        "\n",
        "**Instrucciones**:\n",
        "1. Lea el archivo [`monedas_lat_usd.csv`](https://raw.githubusercontent.com/Vokturz/Curso-Python-BCCh/main/tarea/monedas_lat_usd.csv)  con Pandas y guardelo (deberá indicar la url) en la `variable df_monedas`\n",
        "2. Obtenga los valores que hubieron el 2002\n",
        "3. Para cada columna (exceptuando el Periodo), grafique la variacion porcentual\n",
        "\n",
        "En particular, se requiere graficar la diferencia porcentual de cada año con respecto al 2002.\n"
      ],
      "metadata": {
        "id": "NLhLf3WcFfj_"
      }
    },
    {
      "cell_type": "code",
      "source": [
        "import matplotlib.pyplot as plt\n",
        "import pandas as pd\n",
        "\n",
        "# Cargue el archivo\n",
        "df_monedas = pd.DataFrame() # reemplace por pd.read_csv(...)\n",
        "# Defina los valores\n",
        "valores_2002 = 0 #\n",
        "\n",
        "# Inicialice la figura\n",
        "fig, ax = plt.subplots()\n",
        "\n",
        "# Itere sobre las columnas\n",
        "for col in df_monedas.columns[1:]:\n",
        "  variacion = 0 # define el valor de variacion para esa columna\n",
        "  ax.plot(0, 0, # grafique el periodo v/s la variacion\n",
        "          label=col)\n",
        "\n",
        "############################\n",
        "## NO MODIFICAR ESTE APARTADO\n",
        "plt.xticks([2005, 2010, 2015, 2020])\n",
        "plt.legend()\n",
        "plt.ylabel(\"Variación porcentual [%]\")\n",
        "plt.title(\"Valor Moneda con respecto a un dolar Estadounidense\")\n",
        "plt.axhline(0, ls='--', lw=1, color='k')\n",
        "plt.show()"
      ],
      "metadata": {
        "id": "FmrqwoSj408v"
      },
      "execution_count": null,
      "outputs": []
    },
    {
      "cell_type": "markdown",
      "source": [
        "Si hubiesemos querido graficar a todos menos Argentina, ¿Qué debíamos hacer?"
      ],
      "metadata": {
        "id": "SpJ1f9bPJp4B"
      }
    },
    {
      "cell_type": "markdown",
      "source": [
        "# Ejercicio 5\n",
        "\n",
        "El archivo [confirmados](https://raw.githubusercontent.com/MinCiencia/Datos-COVID19/master/output/producto3/CasosTotalesCumulativo.csv) contiene información de los casos confirmados acumulados de contagios Covid-10 desde Marzo 2020 a Agosto 2023.\n",
        "\n",
        "A Continuación se lee dicho archivo y se le da cierto formato de tal forma que sea más facil trabajar con el:"
      ],
      "metadata": {
        "id": "tj29sRLZqI2u"
      }
    },
    {
      "cell_type": "code",
      "source": [
        "import pandas as pd\n",
        "import seaborn as sns\n",
        "\n",
        "df = pd.read_csv(\"https://raw.githubusercontent.com/MinCiencia/Datos-COVID19/master/output/producto3/CasosTotalesCumulativo.csv\")\n",
        "df.head()"
      ],
      "metadata": {
        "id": "eFIU7JQhpoPZ"
      },
      "execution_count": null,
      "outputs": []
    },
    {
      "cell_type": "code",
      "source": [
        "# pasamos todas las columnas a una sola, excluyendo \"region\"\n",
        "df = df.melt([\"Region\"])\n",
        "\n",
        "# cambiamos los nombres\n",
        "df.columns = [\"region\", \"fecha\", \"confirmados\"]\n",
        "\n",
        " # le decimos que fecha es datetime\n",
        "df[\"fecha\"] = pd.to_datetime(df[\"fecha\"])\n",
        "\n",
        "df.head()\n"
      ],
      "metadata": {
        "id": "R9uExQFq25V4"
      },
      "execution_count": null,
      "outputs": []
    },
    {
      "cell_type": "markdown",
      "source": [
        "Dado el DataFrame anterior, se pide que grafique en un misma figura dos gráficos uno al lado del otro, donde:\n",
        "\n",
        "1. El primero es de Fecha v/s **total** confirmados, no muestre barras de error\n",
        "2. El segundo es de Fecha v/s confirmados según región\n",
        "\n",
        "Ambos gráficos se pueden realizar directamente con Pandas, o bien utilizar Seaborn. En específico, recomendamos utilizar [`sns.lineplot`](https://seaborn.pydata.org/generated/seaborn.lineplot.html)."
      ],
      "metadata": {
        "id": "WOOki3Bh7QFL"
      }
    },
    {
      "cell_type": "code",
      "source": [
        "sns.set_style(\"whitegrid\")\n",
        "fig, axes = plt.subplots(1, 2, figsize=(12, 4))\n",
        "\n",
        "ax1 = axes[0]\n",
        "# hacer algo con ax1\n",
        "# ....\n",
        "\n",
        "ax2 = axes[1]\n",
        "# hacer algo con ax2\n",
        "# ...\n",
        "\n",
        "# dejamos la leyenda del segundo grafico al lado derecho\n",
        "ax2.legend(loc='center left', bbox_to_anchor=(1, 0.5))\n",
        "\n",
        "# embellecemos un poco el gráfico\n",
        "for ax in axes:\n",
        "  ax.tick_params(axis='x', rotation=20) # rotamos las etiquetas del eje x\n",
        "  ax.set_title(\"Datos Covid-19\")\n",
        "  ax.set_ylabel(\"Confirmados acumulados\")\n",
        "fig.tight_layout()"
      ],
      "metadata": {
        "id": "bNux6L5Sz91a"
      },
      "execution_count": null,
      "outputs": []
    },
    {
      "cell_type": "code",
      "source": [],
      "metadata": {
        "id": "JMVGKJl7AZ5N"
      },
      "execution_count": null,
      "outputs": []
    }
  ]
}