{
  "nbformat": 4,
  "nbformat_minor": 0,
  "metadata": {
    "colab": {
      "provenance": [],
      "authorship_tag": "ABX9TyOFKoS56BntRIaAOLfg2dm2",
      "include_colab_link": true
    },
    "kernelspec": {
      "name": "python3",
      "display_name": "Python 3"
    },
    "language_info": {
      "name": "python"
    }
  },
  "cells": [
    {
      "cell_type": "markdown",
      "metadata": {
        "id": "view-in-github",
        "colab_type": "text"
      },
      "source": [
        "<a href=\"https://colab.research.google.com/github/Vokturz/Curso-Python-BCCh/blob/main/clase3/Clase3_Intro_librerias_y_numpy.ipynb\" target=\"_parent\"><img src=\"https://colab.research.google.com/assets/colab-badge.svg\" alt=\"Open In Colab\"/></a>"
      ]
    },
    {
      "cell_type": "markdown",
      "source": [
        "# Librerías\n",
        "\n",
        "Una librería es un conjunto de funciones, clases y módulos que alguien ha escrito y que están disponibles para que otros las utilicen en sus programas. El gran beneficio de ellas es que permiten reutilizar código, accediendo por ejemplo a funciones muy complejas de programar (para qué reinventar la rueda, ¿no?).\n",
        "\n",
        "## Cómo utilizar una librería\n",
        "\n",
        "Para usar una librería primero debemos asegurarnos de que esta está instalada. Existen varias formas de instalar una librería, siendo la más común el usar el gestor de paquetes de Python `pip` dentro de una consola con la sintaxis `pip install nombre_libreria`.\n",
        "\n",
        "Una vez instalada, dentro del código de Python debemos importarla:\n",
        "\n",
        "```python\n",
        "import nombre_libreria # importar directamente\n",
        "import nombre_libreria as alias # usar un alias\n",
        "from nombre_libreria import una_funcion # importar algo particular\n",
        "```\n",
        "\n",
        "A continuación importaremos y mostraremos ciertas utilidades que existen por defecto en Python"
      ],
      "metadata": {
        "id": "3DhFk9eGnm6l"
      }
    },
    {
      "cell_type": "code",
      "execution_count": null,
      "metadata": {
        "id": "UkT4u_9EkT-D"
      },
      "outputs": [],
      "source": [
        "# Funciones matemáticas\n",
        "import math\n",
        "print(math.sqrt(16)) # Raiz cuadrada"
      ]
    },
    {
      "cell_type": "code",
      "source": [
        "# Trabajar con fechas y horas\n",
        "from datetime import datetime\n",
        "now = datetime.now()\n",
        "print(now) # La hora en Colab está en UTC+0"
      ],
      "metadata": {
        "id": "d7o1nOHrp-hT"
      },
      "execution_count": null,
      "outputs": []
    },
    {
      "cell_type": "code",
      "source": [
        "# Generador de números aleatorios\n",
        "import random\n",
        "for i in range(5):\n",
        "  print(random.randint(1,10)) # Número entero aleatorio entre 1 y 10"
      ],
      "metadata": {
        "id": "riYBIQVsqKab"
      },
      "execution_count": null,
      "outputs": []
    },
    {
      "cell_type": "code",
      "source": [
        "# Hacer peticiones HTTP, como descargar una página web\n",
        "# Esto es importante por ejemplo, para hacer scraping\n",
        "import requests\n",
        "response = requests.get('https://www.udd.cl/')\n",
        "\n",
        "# Mostramos solo los primeros 2000 caracteres\n",
        "print(response.text[:2000])"
      ],
      "metadata": {
        "id": "TKWyhJAFqcJy"
      },
      "execution_count": null,
      "outputs": []
    },
    {
      "cell_type": "markdown",
      "source": [
        "# NumPy\n",
        "\n",
        "![](https://github.com/Vokturz/Curso-Python-BCCh/blob/main/clase3/numpy_dalle3.png?raw=true)\n",
        "> *Una ilustración de NumPy hecha con inteligencia artificial*\n",
        "\n",
        "NumPy es una librería especializada en operaciones matemáticas y manipulación de vectores y matrices. Incluye un montón de funciones matemáticas, así como una estructura de datos propia llamada `ndarray` que es mucho más rapida que las listas convencionales de Python y que ademas aporta una mayor versatilidad al permitir describir matrices.\n",
        "\n",
        "\n"
      ],
      "metadata": {
        "id": "3_KXfsuyrc4C"
      }
    },
    {
      "cell_type": "code",
      "source": [
        "import numpy as np # Comunmente se importa con el alias np\n",
        "\n",
        "# Creamos un array a partir de una lista\n",
        "un_array = np.array([1,2,3])\n",
        "type(un_array)"
      ],
      "metadata": {
        "id": "3wH1qw98tut5"
      },
      "execution_count": null,
      "outputs": []
    },
    {
      "cell_type": "markdown",
      "source": [
        "Existen diferencias importantes a la hora de trabajar con un array versus trabajar con un lista:\n",
        "\n",
        "- Un array permite operaciones elemento a elemento sin tener que utilizar un bucle para iterar sobre ellos. Esto le agrega simpleza y eficiencia a la programación.\n",
        "- Un array es de tamaño fijo, es decir, no se puede cambiar su tamaño una vez creado. No funcionan `array.append`, `array.remove`, ni `del array[i]`, mientras que para una lista si se tienen estas funcionalidades.\n",
        "- Es altamente recomendado que un array sea creado con elementos del mismo tipo"
      ],
      "metadata": {
        "id": "iwfNBBA0kTW1"
      }
    },
    {
      "cell_type": "code",
      "source": [
        "del un_array[0] # Esto lanzará un error"
      ],
      "metadata": {
        "id": "JGDSO_6klAIB"
      },
      "execution_count": null,
      "outputs": []
    },
    {
      "cell_type": "code",
      "source": [
        "# Creamos un array de 3x3\n",
        "una_matriz = np.array([[1,2,3], [4,5,6], [7,8,9]])\n",
        "print(una_matriz)\n",
        "print(\"Dimension de la matriz:\", una_matriz.shape) # 3 x 3\n",
        "print(\"Total filas:\", len(una_matriz))"
      ],
      "metadata": {
        "id": "UnCD0uBqqu8A"
      },
      "execution_count": null,
      "outputs": []
    },
    {
      "cell_type": "markdown",
      "source": [
        "A continuación se muestran algunas operaciones sobre arrays"
      ],
      "metadata": {
        "id": "Ya6rvnbNmhe7"
      }
    },
    {
      "cell_type": "code",
      "source": [
        "# Sumar arrays\n",
        "arr1 = np.array([1, 2, 3])\n",
        "arr2 = np.array([4, 5, 6])\n",
        "print(arr1 + arr2) # Suma elemento a elemento"
      ],
      "metadata": {
        "id": "Yzf-Eh3rtxqN"
      },
      "execution_count": null,
      "outputs": []
    },
    {
      "cell_type": "code",
      "source": [
        "# Summar un número a un array:\n",
        "print(arr1 + 10)"
      ],
      "metadata": {
        "id": "ETmKNPBvmk0M"
      },
      "execution_count": null,
      "outputs": []
    },
    {
      "cell_type": "code",
      "source": [
        "# Concatenar arrays\n",
        "arr_concatenado = np.concatenate([arr1, arr2])\n",
        "print(arr_concatenado)"
      ],
      "metadata": {
        "id": "u6llfoPKw2Cu"
      },
      "execution_count": null,
      "outputs": []
    },
    {
      "cell_type": "code",
      "source": [
        "un_array = np.arange(11) # similar a list(range(11))\n",
        "print(\"Array original:\",un_array)\n",
        "\n",
        "# Funciones aritmeticas sobre un array\n",
        "print(\"   Elevado a 2:\", np.power(un_array, 2))\n",
        "print(\"      Promedio:\", np.mean(un_array))\n",
        "print(\"       Mediana:\", np.median(un_array))\n",
        "print(\"        Máximo:\", np.max(un_array))\n",
        "print(\"        Mínimo:\", np.min(un_array))\n"
      ],
      "metadata": {
        "id": "ig1Cmf_Iup5p"
      },
      "execution_count": null,
      "outputs": []
    },
    {
      "cell_type": "code",
      "source": [
        "una_matriz = np.array([[1, 2], [3, 4], [5, 6]])\n",
        "print(una_matriz)\n",
        "print('---')\n",
        "print(\"Reshape (2,3)\") # Modificar la forma de un array\n",
        "print(una_matriz.reshape(2, 3))\n",
        "print('---')\n",
        "print(\"Matriz traspuesta\")\n",
        "print(una_matriz.T)"
      ],
      "metadata": {
        "id": "fevpkedfvB8a"
      },
      "execution_count": null,
      "outputs": []
    },
    {
      "cell_type": "markdown",
      "source": [
        "En NumPy existen muchas más funciones, las cuales están muy bien documentadas en su [página web](https://numpy.org/doc/stable/reference/routines.html). Algunas de ellas que no han sido ejemplificadas aquí son:\n",
        "\n",
        "1. Creación de Arrays\n",
        "  - `np.zeros(shape)`: Crea un array de dimension `shape` lleno de ceros\n",
        "  - `np.ones(shape)`: Crea un array de dimension `shape` lleno de unos\n",
        "  - `np.linspace(ini, fin, total)`: Crea un array de `total` números entre `ini` y `fin`\n",
        "2. Más funciones estadísticas\n",
        "  - `np.std(arr)`: Calcula la desviación estándar de un array\n",
        "  - `np.argmin(arr)`: Encuentra el *índice* del valor mínimo en el array\n",
        "  - `np.argmax(arr)`: Encuentra el *índice* del valor máximo en el array\n",
        "  - `np.percentile(arr, q)`: Calcula el q-ésimo percentil del array\n",
        "3. Operaciones de álgebra lineal\n",
        "  - `np.dot(A, B)`: Producto punto de dos arrays\n",
        "  - `np.cross(A, B)`: Producto cruz de dos arrays\n",
        "  - `np.linalg.inv(matriz)`: Calcula la inversa de una matriz\n",
        "4. Funciones Trigonométricas (Array debe estar en radianes)\n",
        "  - `np.sin(arr)`: Calcula el seno de cada elemento del array\n",
        "  - `np.cos(arr)`: Calcula el coseno de cada elemento del array\n",
        "  - `np.tan(arr)`: Calcula la tangente de cada elemento del array\n",
        "  \n",
        "  Para ir familiarizandonos, volvamos a resolver los ejercicios de la clase anterior, pero esta vez usando NumPy:\n",
        "\n",
        "  1. Dado un diccionario de indicadores mensuales, defina\n",
        " - Una función que calcule la media de un indicador dada una clave\n",
        " - Una función que, dado un indicador, retorne el mes más bajo. Asuma que la lista de cada indicador está ordenada de Enero a Junio\n"
      ],
      "metadata": {
        "id": "V5kRakwwynoK"
      }
    },
    {
      "cell_type": "code",
      "source": [
        "# Los indicadores estan ordenados de Enero a Junio\n",
        "indicadores_mensuales = {\n",
        "      \"IPC\": [0.8, -0.1, 1.1, 0.3, 0.1, -0.2],\n",
        "      \"Tasa de Desempleo\": [8.04, 8.37, 8.81, 8.66, 8.52, 8.53],\n",
        "      \"Imacec\": [0.2, 5, -2.1, -0.9, -0.8, 0.2]\n",
        "  }\n",
        "\n",
        "indice_meses = {0: \"Enero\",\n",
        "                1: \"Febrero\",\n",
        "                2: \"Marzo\",\n",
        "                3: \"Abril\",\n",
        "                4: \"Mayo\",\n",
        "                5: \"Junio\"}\n",
        "\n",
        "def calcular_media(indicadores, clave):\n",
        "  \"\"\"Calcula la media de un indicador\"\"\"\n",
        "  media = 0 # Reemplazar!\n",
        "  return round(media, 2)\n",
        "\n",
        "\n",
        "def mes_minimo(indicadores, clave, indice_meses):\n",
        "  \"\"\"Retorna el mes donde el indicador fue mínimo\"\"\"\n",
        "  indice_mes_minimo = 0 # Reemplazar\n",
        "  return indice_meses[indice_mes_minimo]\n",
        "\n",
        "assert calcular_media(indicadores_mensuales, \"IPC\") == 0.33, \"Media IPC incorrecta\"\n",
        "assert mes_minimo(indicadores_mensuales, \"Imacec\", indice_meses) == \"Marzo\", \"Incorrecto\"\n"
      ],
      "metadata": {
        "id": "1aps1qR8yaR5"
      },
      "execution_count": null,
      "outputs": []
    },
    {
      "cell_type": "markdown",
      "source": [
        "2. Calcule la variación porcentual de una lista de intereses anuales. La fórmula de la variación porcentual es\n",
        "\n",
        "$\\Large\\Delta \\%_\\text{actual} = \\frac{\\text{periodo actual} - \\text{periodo anterior}}{\\text{periodo anterior}} \\times 100 $\n"
      ],
      "metadata": {
        "id": "X4fCGlCx2QXi"
      }
    },
    {
      "cell_type": "code",
      "source": [
        "# Tasas de interes anuales\n",
        "tasas_interes = [2.5, 2.6, 2.7, 2.5, 2.8, 2.9]\n",
        "\n",
        "def calcular_variacion(tasas):\n",
        "  \"\"\"Calcula la variacion porcentual de un año a otro en las tasas\"\"\"\n",
        "  tasas_np = np.array(tasas)\n",
        "  variaciones = np.array([]) # Reemplazar\n",
        "  return variaciones.round(2)\n",
        "\n",
        "# Si todo está en orden no debería aparecer un error\n",
        "assert calcular_variacion(tasas_interes) == [4, 3.8, -7.4, 12, 3.6], \"Incorrecto\""
      ],
      "metadata": {
        "id": "azqyO2Yl1-4y"
      },
      "execution_count": null,
      "outputs": []
    },
    {
      "cell_type": "markdown",
      "source": [
        "NumPy es la base para otras librerías muy utilizadas en el área de datos:\n",
        "- [SciPy](https://scipy.org/) es una librería que extiende las capacidades de NumPy añadiendo algoritmos de álgebra lineal, optimización, procesamiento de señales, distribuciones estadísticas, entre otros.\n",
        "- [Scikit-learn](https://scikit-learn.org/) es una de las librerías más populares para Machine Learning en Python.\n",
        "- [**Pandas**](https://pandas.pydata.org/) es una de las herramientas fundamentales para la manipulación y el análisis de datos en Python. Tiene las estructuras de datos `Dataframe` y `Series` optimizadas para análisis de datos tabulares.\n",
        "\n",
        "Existen muchas más librerías basadas en NumPy, por ejemplo, en astronomía la librería AstroPy es muy conocida. En el campo del aprendizaje profundo (deep learning), frameworks como Tensorflow y PyTorch están muy influenciados por NumPy. En el mismo campo, Google liberó hace menos de dos años un framework llamado JAX, el cual utiliza la misma sintaxis de NumPy.\n",
        "\n",
        "\n",
        "## Enlaces externos\n",
        "- [W3Schools](https://www.w3schools.com/python/numpy/default.asp) tiene tutoriales simples de NumPy\n",
        "- La página oficial de NumPy tiene una [guía básica](https://numpy.org/doc/stable/user/absolute_beginners.html) de uso"
      ],
      "metadata": {
        "id": "uNdcasMDnJYv"
      }
    }
  ]
}