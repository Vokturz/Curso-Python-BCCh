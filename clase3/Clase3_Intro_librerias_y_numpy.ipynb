{
  "nbformat": 4,
  "nbformat_minor": 0,
  "metadata": {
    "colab": {
      "provenance": [],
      "authorship_tag": "ABX9TyNWlUA3SX5VjM+56xc77HwA",
      "include_colab_link": true
    },
    "kernelspec": {
      "name": "python3",
      "display_name": "Python 3"
    },
    "language_info": {
      "name": "python"
    }
  },
  "cells": [
    {
      "cell_type": "markdown",
      "metadata": {
        "id": "view-in-github",
        "colab_type": "text"
      },
      "source": [
        "<a href=\"https://colab.research.google.com/github/Vokturz/Curso-Python-BCCh/blob/main/clase3/Clase3_Intro_librerias_y_numpy.ipynb\" target=\"_parent\"><img src=\"https://colab.research.google.com/assets/colab-badge.svg\" alt=\"Open In Colab\"/></a>"
      ]
    },
    {
      "cell_type": "markdown",
      "source": [
        "# Librerías\n",
        "\n",
        "Una librería es un conjunto de funciones, clases y módulos que alguien ha escrito y que están disponibles para que otros las utilicen en sus programas. El gran beneficio de ellas es que permiten reutilizar código, accediendo por ejemplo a funciones muy complejas de programar (para qué reinventar la rueda, ¿no?).\n",
        "\n",
        "## Cómo utilizar una librería\n",
        "\n",
        "Para usar una librería primero debemos asegurarnos de que esta está instalada. Existen varias formas de instalar una librería, siendo la más común el usar el gestor de paquetes de Python `pip` dentro de una consola con la sintaxis `pip install nombre_libreria`.\n",
        "\n",
        "Una vez instalada, dentro del código de Python debemos importarla:\n",
        "\n",
        "```python\n",
        "import nombre_libreria # importar directamente\n",
        "import nombre_libreria as alias # usar un alias\n",
        "from nombre_libreria import una_funcion # importar algo particular\n",
        "```\n",
        "\n",
        "A continuación importaremos y mostraremos ciertas utilidades que existen por defecto en Python"
      ],
      "metadata": {
        "id": "3DhFk9eGnm6l"
      }
    },
    {
      "cell_type": "code",
      "execution_count": null,
      "metadata": {
        "colab": {
          "base_uri": "https://localhost:8080/"
        },
        "id": "UkT4u_9EkT-D",
        "outputId": "b065794a-f743-4bf7-c201-d64bb4ad4539"
      },
      "outputs": [
        {
          "output_type": "stream",
          "name": "stdout",
          "text": [
            "4.0\n"
          ]
        }
      ],
      "source": [
        "# Funciones matemáticas\n",
        "import math\n",
        "print(math.sqrt(16)) # Raiz cuadrada"
      ]
    },
    {
      "cell_type": "code",
      "source": [
        "# Trabajar con fechas y horas\n",
        "from datetime import datetime\n",
        "now = datetime.now()\n",
        "print(now) # La hora en Colab está en UTC+0"
      ],
      "metadata": {
        "colab": {
          "base_uri": "https://localhost:8080/"
        },
        "id": "d7o1nOHrp-hT",
        "outputId": "47130e42-53fd-40d8-f48e-9da41aa3b7a8"
      },
      "execution_count": null,
      "outputs": [
        {
          "output_type": "stream",
          "name": "stdout",
          "text": [
            "2023-10-17 03:23:45.391136\n"
          ]
        }
      ]
    },
    {
      "cell_type": "code",
      "source": [
        "# Generador de números aleatorios\n",
        "import random\n",
        "for i in range(5):\n",
        "  print(random.randint(1,10)) # Número entero aleatorio entre 1 y 10"
      ],
      "metadata": {
        "colab": {
          "base_uri": "https://localhost:8080/"
        },
        "id": "riYBIQVsqKab",
        "outputId": "26e0db96-f872-47d5-ef0d-ceb8086adf4f"
      },
      "execution_count": null,
      "outputs": [
        {
          "output_type": "stream",
          "name": "stdout",
          "text": [
            "6\n",
            "9\n",
            "4\n",
            "2\n",
            "6\n"
          ]
        }
      ]
    },
    {
      "cell_type": "code",
      "source": [
        "# Hacer peticiones HTTP, como descargar una página web\n",
        "# Esto es importante por ejemplo, para hacer scraping\n",
        "import requests\n",
        "response = requests.get('https://www.udd.cl/')\n",
        "\n",
        "# Mostramos solo los primeros 2000 caracteres\n",
        "print(response.text[:2000])"
      ],
      "metadata": {
        "colab": {
          "base_uri": "https://localhost:8080/"
        },
        "id": "TKWyhJAFqcJy",
        "outputId": "9c244ada-8e9c-4755-80f5-55f209521680"
      },
      "execution_count": null,
      "outputs": [
        {
          "output_type": "stream",
          "name": "stdout",
          "text": [
            "<!DOCTYPE html>\n",
            "<html lang=\"es-ES\">\n",
            "<head>\n",
            "\t<meta charset=\"UTF-8\">\n",
            "\t<meta name=\"viewport\" content=\"width=device-width, user-scalable=no, initial-scale=1.0, maximum-scale=1.0, minimum-scale=1.0\">\n",
            "\t<meta name=\"theme-color\" content=\"#014c8f\">\n",
            "\t<!-- Google Tag Manager -->\n",
            "\t<script>(function(w,d,s,l,i){w[l]=w[l]||[];w[l].push({'gtm.start':\n",
            "\tnew Date().getTime(),event:'gtm.js'});var f=d.getElementsByTagName(s)[0],\n",
            "\tj=d.createElement(s),dl=l!='dataLayer'?'&l='+l:'';j.async=true;j.src=\n",
            "\t'https://www.googletagmanager.com/gtm.js?id='+i+dl;f.parentNode.insertBefore(j,f);\n",
            "\t})(window,document,'script','dataLayer','GTM-5VPXPW');</script>\n",
            "\t<!-- End Google Tag Manager -->\n",
            "\t<!-- Webtracking -->\n",
            "\t<script type=\"text/javascript\">\n",
            "\t\tvar _paq = _paq || [];\n",
            "\t\t_paq.push(['trackPageView']);\n",
            "\t\t_paq.push(['enableLinkTracking']);\n",
            "\t\t(function() {\n",
            "\t\tvar u=\"https://wtcl1.fidelizador.com/track.php?slug=udd\";\n",
            "\t\t_paq.push(['setTrackerUrl', u]);\n",
            "\t\t_paq.push(['setSiteId', '1']);\n",
            "\t\tvar d=document,\n",
            "\t\t\tg=d.createElement('script'),\n",
            "\t\t\ts=d.getElementsByTagName('script')[0];\n",
            "\t\tg.type='text/javascript'; g.async=true; g.defer=true; g.src='https://staticcl1.fidelizador.com/webtrackingcl1/piwik.js'; s.parentNode.insertBefore(g,s);\n",
            "\t\t})();\n",
            "\t</script>\n",
            "\t<!-- Fin Webtracking -->\n",
            "\t<meta name='robots' content='index, follow, max-image-preview:large, max-snippet:-1, max-video-preview:-1' />\n",
            "\n",
            "\t<!-- This site is optimized with the Yoast SEO plugin v21.3 - https://yoast.com/wordpress/plugins/seo/ -->\n",
            "\t<title>Bienvenido a la UDD - Universidad del Desarrollo</title>\n",
            "\t<meta name=\"description\" content=\"Conoce las carreras profesionales y postgrados de la Universidad del Desarrollo. 1ª Universidad Privada Acreditada en todas las áreas.\" />\n",
            "\t<link rel=\"canonical\" href=\"https://www.udd.cl/\" />\n",
            "\t<meta property=\"og:locale\" content=\"es_ES\" />\n",
            "\t<meta property=\"og:locale:alternate\" content=\"en_US\" />\n",
            "\t<meta property=\"og:type\" content=\"website\" />\n",
            "\t<meta property=\"og:title\" content=\"Bienvenido a la UDD - Universidad del Desarrollo\" /\n"
          ]
        }
      ]
    },
    {
      "cell_type": "markdown",
      "source": [
        "# NumPy\n",
        "\n",
        "NumPy es una librería especializada en operaciones matemáticas y manipulación de vectores y matrices. Incluye un montón de funciones matemáticas, así como una estructura de datos propia llamada `ndarray` que es mucho más rapida que las listas convencionales de Python y que ademas aporta una mayor versatilidad al permitir describir matrices.\n",
        "\n",
        "\n"
      ],
      "metadata": {
        "id": "3_KXfsuyrc4C"
      }
    },
    {
      "cell_type": "code",
      "source": [
        "import numpy as np # Comunmente se importa con el alias np\n",
        "\n",
        "# Creamos un array a partir de una lista\n",
        "un_array = np.array([1,2,3])\n",
        "type(un_array)"
      ],
      "metadata": {
        "colab": {
          "base_uri": "https://localhost:8080/"
        },
        "id": "3wH1qw98tut5",
        "outputId": "c2bf2dab-c537-4aac-a15a-412b0d557d8c"
      },
      "execution_count": 4,
      "outputs": [
        {
          "output_type": "execute_result",
          "data": {
            "text/plain": [
              "numpy.ndarray"
            ]
          },
          "metadata": {},
          "execution_count": 4
        }
      ]
    },
    {
      "cell_type": "markdown",
      "source": [
        "Existen diferencias importantes a la hora de trabajar con un array versus trabajar con un lista:\n",
        "\n",
        "- Un array permite operaciones elemento a elemento sin tener que utilizar un bucle para iterar sobre ellos. Esto le agrega simpleza y eficiencia a la programación.\n",
        "- Un array es de tamaño fijo, es decir, no se puede cambiar su tamaño una vez creado. No funcionan `array.append`, `array.remove`, ni `del array[i]`, mientras que para una lista si se tienen estas funcionalidades.\n",
        "- Es altamente recomendado que un array sea creado con elementos del mismo tipo"
      ],
      "metadata": {
        "id": "iwfNBBA0kTW1"
      }
    },
    {
      "cell_type": "code",
      "source": [
        "del un_array[0] # Esto lanzará un error"
      ],
      "metadata": {
        "colab": {
          "base_uri": "https://localhost:8080/",
          "height": 175
        },
        "id": "JGDSO_6klAIB",
        "outputId": "306e157f-05cb-4410-c6fd-c5466314e0dc"
      },
      "execution_count": 5,
      "outputs": [
        {
          "output_type": "error",
          "ename": "ValueError",
          "evalue": "ignored",
          "traceback": [
            "\u001b[0;31m---------------------------------------------------------------------------\u001b[0m",
            "\u001b[0;31mValueError\u001b[0m                                Traceback (most recent call last)",
            "\u001b[0;32m<ipython-input-5-b30223988e78>\u001b[0m in \u001b[0;36m<cell line: 1>\u001b[0;34m()\u001b[0m\n\u001b[0;32m----> 1\u001b[0;31m \u001b[0;32mdel\u001b[0m \u001b[0mun_array\u001b[0m\u001b[0;34m[\u001b[0m\u001b[0;36m0\u001b[0m\u001b[0;34m]\u001b[0m\u001b[0;34m\u001b[0m\u001b[0;34m\u001b[0m\u001b[0m\n\u001b[0m",
            "\u001b[0;31mValueError\u001b[0m: cannot delete array elements"
          ]
        }
      ]
    },
    {
      "cell_type": "code",
      "source": [
        "# Creamos un array de 3x3\n",
        "una_matriz = np.array([[1,2,3], [4,5,6], [7,8,9]])\n",
        "print(una_matriz)\n",
        "print(\"Dimension de la matriz:\", una_matriz.shape) # 3 x 3\n",
        "print(\"Total filas:\", len(una_matriz))"
      ],
      "metadata": {
        "colab": {
          "base_uri": "https://localhost:8080/"
        },
        "id": "UnCD0uBqqu8A",
        "outputId": "b702f694-47c9-4335-c53f-5282329a5c66"
      },
      "execution_count": null,
      "outputs": [
        {
          "output_type": "stream",
          "name": "stdout",
          "text": [
            "[[1 2 3]\n",
            " [4 5 6]\n",
            " [7 8 9]]\n",
            "Dimension de la matriz: (3, 3)\n",
            "Total filas: 3\n"
          ]
        }
      ]
    },
    {
      "cell_type": "markdown",
      "source": [
        "A continuación se muestran algunas operaciones sobre arrays"
      ],
      "metadata": {
        "id": "Ya6rvnbNmhe7"
      }
    },
    {
      "cell_type": "code",
      "source": [
        "# Sumar arrays\n",
        "arr1 = np.array([1, 2, 3])\n",
        "arr2 = np.array([4, 5, 6])\n",
        "print(arr1 + arr2) # Suma elemento a elemento"
      ],
      "metadata": {
        "colab": {
          "base_uri": "https://localhost:8080/"
        },
        "id": "Yzf-Eh3rtxqN",
        "outputId": "eba1072c-f20a-4438-eaa2-ebe554ab4e1a"
      },
      "execution_count": 7,
      "outputs": [
        {
          "output_type": "stream",
          "name": "stdout",
          "text": [
            "[5 7 9]\n"
          ]
        }
      ]
    },
    {
      "cell_type": "code",
      "source": [
        "# Summar un número a un array:\n",
        "print(arr1 + 10)"
      ],
      "metadata": {
        "colab": {
          "base_uri": "https://localhost:8080/"
        },
        "id": "ETmKNPBvmk0M",
        "outputId": "f0fb6c93-ee72-4346-e720-9e4e5ed6fbe7"
      },
      "execution_count": 8,
      "outputs": [
        {
          "output_type": "stream",
          "name": "stdout",
          "text": [
            "[11 12 13]\n"
          ]
        }
      ]
    },
    {
      "cell_type": "code",
      "source": [
        "# Concatenar arrays\n",
        "arr_concatenado = np.concatenate([arr1, arr2])\n",
        "print(arr_concatenado)"
      ],
      "metadata": {
        "colab": {
          "base_uri": "https://localhost:8080/"
        },
        "id": "u6llfoPKw2Cu",
        "outputId": "27976d38-1ce5-41ba-86ed-d1a7f6ecff01"
      },
      "execution_count": null,
      "outputs": [
        {
          "output_type": "stream",
          "name": "stdout",
          "text": [
            "[1 2 3 4 5 6]\n"
          ]
        }
      ]
    },
    {
      "cell_type": "code",
      "source": [
        "un_array = np.arange(11) # similar a list(range(11))\n",
        "print(\"Array original:\",un_array)\n",
        "\n",
        "# Funciones aritmeticas sobre un array\n",
        "print(\"   Elevado a 2:\", np.power(un_array, 2))\n",
        "print(\"      Promedio:\", np.mean(un_array))\n",
        "print(\"       Mediana:\", np.median(un_array))\n",
        "print(\"        Máximo:\", np.max(un_array))\n",
        "print(\"        Mínimo:\", np.min(un_array))\n"
      ],
      "metadata": {
        "colab": {
          "base_uri": "https://localhost:8080/"
        },
        "id": "ig1Cmf_Iup5p",
        "outputId": "86f52b7b-7b75-4b4d-c035-ced6cdd287d6"
      },
      "execution_count": null,
      "outputs": [
        {
          "output_type": "stream",
          "name": "stdout",
          "text": [
            "Array original: [ 0  1  2  3  4  5  6  7  8  9 10]\n",
            "   Elevado a 2: [  0   1   4   9  16  25  36  49  64  81 100]\n",
            "      Promedio: 5.0\n",
            "       Mediana: 5.0\n",
            "        Máximo: 10\n",
            "        Mínimo: 0\n"
          ]
        }
      ]
    },
    {
      "cell_type": "code",
      "source": [
        "una_matriz = np.array([[1, 2], [3, 4], [5, 6]])\n",
        "print(una_matriz)\n",
        "print('---')\n",
        "print(\"Reshape (2,3)\") # Modificar la forma de un array\n",
        "print(una_matriz.reshape(2, 3))\n",
        "print('---')\n",
        "print(\"Matriz traspuesta\")\n",
        "print(una_matriz.T)"
      ],
      "metadata": {
        "colab": {
          "base_uri": "https://localhost:8080/"
        },
        "id": "fevpkedfvB8a",
        "outputId": "dfa5b163-1422-4362-99ba-19ae2ec83089"
      },
      "execution_count": null,
      "outputs": [
        {
          "output_type": "stream",
          "name": "stdout",
          "text": [
            "[[1 2]\n",
            " [3 4]\n",
            " [5 6]]\n",
            "---\n",
            "Reshape (2,3)\n",
            "[[1 2 3]\n",
            " [4 5 6]]\n",
            "---\n",
            "Matriz traspuesta\n",
            "[[1 3 5]\n",
            " [2 4 6]]\n"
          ]
        }
      ]
    },
    {
      "cell_type": "markdown",
      "source": [
        "En NumPy existen muchas más funciones, las cuales están muy bien documentadas en su [página web](https://numpy.org/doc/stable/reference/routines.html). Algunas de ellas que no han sido ejemplificadas aquí son:\n",
        "\n",
        "1. Creación de Arrays\n",
        "  - `np.zeros(shape)`: Crea un array de dimension `shape` lleno de ceros\n",
        "  - `np.ones(shape)`: Crea un array de dimension `shape` lleno de unos\n",
        "  - `np.linspace(ini, fin, total)`: Crea un array de `total` números entre `ini` y `fin`\n",
        "2. Más funciones estadísticas\n",
        "  - `np.std(arr)`: Calcula la desviación estándar de un array\n",
        "  - `np.argmin(arr)`: Encuentra el *índice* del valor mínimo en el array\n",
        "  - `np.argmax(arr)`: Encuentra el *índice* del valor máximo en el array\n",
        "  - `np.percentile(arr, q)`: Calcula el q-ésimo percentil del array\n",
        "3. Operaciones de álgebra lineal\n",
        "  - `np.dot(A, B)`: Producto punto de dos arrays\n",
        "  - `np.cross(A, B)`: Producto cruz de dos arrays\n",
        "  - `np.linalg.inv(matriz)`: Calcula la inversa de una matriz\n",
        "4. Funciones Trigonométricas (Array debe estar en radianes)\n",
        "  - `np.sin(arr)`: Calcula el seno de cada elemento del array\n",
        "  - `np.cos(arr)`: Calcula el coseno de cada elemento del array\n",
        "  - `np.tan(arr)`: Calcula la tangente de cada elemento del array\n",
        "  \n",
        "  Para ir familiarizandonos, volvamos a resolver los ejercicios de la clase anterior, pero esta vez usando NumPy:\n",
        "\n",
        "  1. Dado un diccionario de indicadores mensuales, defina\n",
        " - Una función que calcule la media de un indicador dada una clave\n",
        " - Una función que, dado un indicador, retorne el mes más bajo. Asuma que la lista de cada indicador está ordenada de Enero a Junio\n"
      ],
      "metadata": {
        "id": "V5kRakwwynoK"
      }
    },
    {
      "cell_type": "code",
      "source": [
        "# Los indicadores estan ordenados de Enero a Junio\n",
        "indicadores_mensuales = {\n",
        "      \"IPC\": [0.8, -0.1, 1.1, 0.3, 0.1, -0.2],\n",
        "      \"Tasa de Desempleo\": [8.04, 8.37, 8.81, 8.66, 8.52, 8.53],\n",
        "      \"Imacec\": [0.2, -0,5, -2.1, -0.9, -0.8]\n",
        "  }\n",
        "\n",
        "indice_meses = {0: \"Enero\",\n",
        "                1: \"Febrero\",\n",
        "                2: \"Marzo\",\n",
        "                3: \"Abril\",\n",
        "                4: \"Mayo\",\n",
        "                5: \"Junio\"}\n",
        "\n",
        "def calcular_media(indicadores, clave):\n",
        "  \"\"\"Calcula la media de un indicador\"\"\"\n",
        "  media = 0 # Reemplazar!\n",
        "  return round(media, 2)\n",
        "\n",
        "\n",
        "def mes_minimo(indicadores, clave, indice_meses):\n",
        "  \"\"\"Retorna el mes donde el indicador fue mínimo\"\"\"\n",
        "  indice_mes_minimo = 0 # Reemplazar\n",
        "  return indice_meses[indice_mes_minimo]\n",
        "\n",
        "assert calcular_media(indicadores_mensuales, \"IPC\") == 0.33, \"Media IPC incorrecta\"\n",
        "assert mes_minimo(indicadores_mensuales, \"Imacec\", indice_meses) == \"Marzo\", \"Incorrecto\"\n"
      ],
      "metadata": {
        "colab": {
          "base_uri": "https://localhost:8080/",
          "height": 227
        },
        "id": "1aps1qR8yaR5",
        "outputId": "ee6599f4-46e3-4ba1-a49b-5a251a5b2920"
      },
      "execution_count": null,
      "outputs": [
        {
          "output_type": "error",
          "ename": "AssertionError",
          "evalue": "ignored",
          "traceback": [
            "\u001b[0;31m---------------------------------------------------------------------------\u001b[0m",
            "\u001b[0;31mAssertionError\u001b[0m                            Traceback (most recent call last)",
            "\u001b[0;32m<ipython-input-67-df722e8dda17>\u001b[0m in \u001b[0;36m<cell line: 26>\u001b[0;34m()\u001b[0m\n\u001b[1;32m     24\u001b[0m   \u001b[0;32mreturn\u001b[0m \u001b[0mindice_meses\u001b[0m\u001b[0;34m[\u001b[0m\u001b[0mindice_mes_minimo\u001b[0m\u001b[0;34m]\u001b[0m\u001b[0;34m\u001b[0m\u001b[0;34m\u001b[0m\u001b[0m\n\u001b[1;32m     25\u001b[0m \u001b[0;34m\u001b[0m\u001b[0m\n\u001b[0;32m---> 26\u001b[0;31m \u001b[0;32massert\u001b[0m \u001b[0mcalcular_media\u001b[0m\u001b[0;34m(\u001b[0m\u001b[0mindicadores_mensuales\u001b[0m\u001b[0;34m,\u001b[0m \u001b[0;34m\"IPC\"\u001b[0m\u001b[0;34m)\u001b[0m \u001b[0;34m==\u001b[0m \u001b[0;36m0.33\u001b[0m\u001b[0;34m,\u001b[0m \u001b[0;34m\"Media IPC incorrecta\"\u001b[0m\u001b[0;34m\u001b[0m\u001b[0;34m\u001b[0m\u001b[0m\n\u001b[0m\u001b[1;32m     27\u001b[0m \u001b[0;32massert\u001b[0m \u001b[0mmes_minimo\u001b[0m\u001b[0;34m(\u001b[0m\u001b[0mindicadores_mensuales\u001b[0m\u001b[0;34m,\u001b[0m \u001b[0;34m\"Imacec\"\u001b[0m\u001b[0;34m,\u001b[0m \u001b[0mindice_meses\u001b[0m\u001b[0;34m)\u001b[0m \u001b[0;34m==\u001b[0m \u001b[0;34m\"Marzo\"\u001b[0m\u001b[0;34m,\u001b[0m \u001b[0;34m\"Incorrecto\"\u001b[0m\u001b[0;34m\u001b[0m\u001b[0;34m\u001b[0m\u001b[0m\n",
            "\u001b[0;31mAssertionError\u001b[0m: Media IPC incorrecta"
          ]
        }
      ]
    },
    {
      "cell_type": "markdown",
      "source": [
        "2. Calcule la variación porcentual de una lista de intereses anuales. La fórmula de la variación porcentual es\n",
        "\n",
        "$\\Large\\Delta \\%_\\text{actual} = \\frac{\\text{periodo actual} - \\text{periodo anterior}}{\\text{periodo anterior}} \\times 100 $\n"
      ],
      "metadata": {
        "id": "X4fCGlCx2QXi"
      }
    },
    {
      "cell_type": "code",
      "source": [
        "# Tasas de interes anuales\n",
        "tasas_interes = [2.5, 2.6, 2.7, 2.5, 2.8, 2.9]\n",
        "\n",
        "def calcular_variacion(tasas):\n",
        "  \"\"\"Calcula la variacion porcentual de un año a otro en las tasas\"\"\"\n",
        "  tasas_np = np.array(tasas)\n",
        "  variaciones = np.array([]) # Reemplazar\n",
        "  return variaciones.round(2)\n",
        "\n",
        "# Si todo está en orden no debería aparecer un error\n",
        "assert calcular_variacion(tasas_interes) == [4, 3.8, -7.4, 12, 3.6], \"Incorrecto\""
      ],
      "metadata": {
        "colab": {
          "base_uri": "https://localhost:8080/",
          "height": 245
        },
        "id": "azqyO2Yl1-4y",
        "outputId": "fad9e76a-500d-410e-8672-444ae54d2349"
      },
      "execution_count": null,
      "outputs": [
        {
          "output_type": "stream",
          "name": "stderr",
          "text": [
            "<ipython-input-66-a46889cb9562>:11: DeprecationWarning: elementwise comparison failed; this will raise an error in the future.\n",
            "  assert calcular_variacion(tasas_interes) == [4, 3.8, -7.4, 12, 3.6], \"Incorrecto\"\n"
          ]
        },
        {
          "output_type": "error",
          "ename": "AssertionError",
          "evalue": "ignored",
          "traceback": [
            "\u001b[0;31m---------------------------------------------------------------------------\u001b[0m",
            "\u001b[0;31mAssertionError\u001b[0m                            Traceback (most recent call last)",
            "\u001b[0;32m<ipython-input-66-a46889cb9562>\u001b[0m in \u001b[0;36m<cell line: 11>\u001b[0;34m()\u001b[0m\n\u001b[1;32m      9\u001b[0m \u001b[0;34m\u001b[0m\u001b[0m\n\u001b[1;32m     10\u001b[0m \u001b[0;31m# Si todo está en orden no debería aparecer un error\u001b[0m\u001b[0;34m\u001b[0m\u001b[0;34m\u001b[0m\u001b[0m\n\u001b[0;32m---> 11\u001b[0;31m \u001b[0;32massert\u001b[0m \u001b[0mcalcular_variacion\u001b[0m\u001b[0;34m(\u001b[0m\u001b[0mtasas_interes\u001b[0m\u001b[0;34m)\u001b[0m \u001b[0;34m==\u001b[0m \u001b[0;34m[\u001b[0m\u001b[0;36m4\u001b[0m\u001b[0;34m,\u001b[0m \u001b[0;36m3.8\u001b[0m\u001b[0;34m,\u001b[0m \u001b[0;34m-\u001b[0m\u001b[0;36m7.4\u001b[0m\u001b[0;34m,\u001b[0m \u001b[0;36m12\u001b[0m\u001b[0;34m,\u001b[0m \u001b[0;36m3.6\u001b[0m\u001b[0;34m]\u001b[0m\u001b[0;34m,\u001b[0m \u001b[0;34m\"Incorrecto\"\u001b[0m\u001b[0;34m\u001b[0m\u001b[0;34m\u001b[0m\u001b[0m\n\u001b[0m",
            "\u001b[0;31mAssertionError\u001b[0m: Incorrecto"
          ]
        }
      ]
    },
    {
      "cell_type": "markdown",
      "source": [
        "NumPy es la base para otras librerías muy utilizadas en el área de datos:\n",
        "- [SciPy](https://scipy.org/) es una librería que extiende las capacidades de NumPy añadiendo algoritmos de álgebra lineal, optimización, procesamiento de señales, distribuciones estadísticas, entre otros.\n",
        "- [Scikit-learn](https://scikit-learn.org/) es una de las librerías más populares para Machine Learning en Python.\n",
        "- [**Pandas**](https://pandas.pydata.org/) es una de las herramientas fundamentales para la manipulación y el análisis de datos en Python. Tiene las estructuras de datos `Dataframe` y `Series` optimizadas para análisis de datos tabulares.\n",
        "\n",
        "Existen muchas más librerías basadas en NumPy, por ejemplo, en astronomía la librería AstroPy es muy conocida. En el campo del aprendizaje profundo (deep learning), frameworks como Tensorflow y PyTorch están muy influenciados por NumPy. En el mismo campo, Google liberó hace menos de dos años un framework llamado JAX, el cual utiliza la misma sintaxis de NumPy.\n",
        "\n",
        "\n",
        "## Enlaces externos\n",
        "- [W3Schools](https://www.w3schools.com/python/numpy/default.asp) tiene tutoriales simples de NumPy\n",
        "- La página oficial de NumPy tiene una [guía básica](https://numpy.org/doc/stable/user/absolute_beginners.html) de uso"
      ],
      "metadata": {
        "id": "uNdcasMDnJYv"
      }
    }
  ]
}