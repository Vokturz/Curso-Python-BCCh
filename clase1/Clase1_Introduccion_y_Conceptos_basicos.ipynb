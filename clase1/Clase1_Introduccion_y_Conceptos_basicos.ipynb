{
  "nbformat": 4,
  "nbformat_minor": 0,
  "metadata": {
    "colab": {
      "provenance": [],
      "authorship_tag": "ABX9TyOokN3DXzkEHauc8FZfP7Rp",
      "include_colab_link": true
    },
    "kernelspec": {
      "name": "python3",
      "display_name": "Python 3"
    },
    "language_info": {
      "name": "python"
    }
  },
  "cells": [
    {
      "cell_type": "markdown",
      "metadata": {
        "id": "view-in-github",
        "colab_type": "text"
      },
      "source": [
        "<a href=\"https://colab.research.google.com/github/Vokturz/Curso-Python-BCCh/blob/main/clase1/Clase1_Introduccion_y_Conceptos_basicos.ipynb\" target=\"_parent\"><img src=\"https://colab.research.google.com/assets/colab-badge.svg\" alt=\"Open In Colab\"/></a>"
      ]
    },
    {
      "cell_type": "markdown",
      "source": [
        "# El lenguaje Python\n",
        "\n",
        "- Creado en 1991 por Guido Van Rossum, programador alemán, con el objetivo de reducir la complejidad en la escritura de código. Su filosofía fue:\n",
        "  - Lenguaje fácil e intuitivo de utilizar\n",
        "  - Cualquiera puede contribuir a su desarrollo (open source)\n",
        "  - Un lenguaje que permita tiempos de desarrollo cortos y solucionar tareas del día a día.\n",
        "- Lenguaje de propósito general: Puede ser usado para resolver una enorme variedad de tareas\n",
        "- Puede ejecutarse en varias plataformas como MacOS, Windows y Linux.\n",
        "- Python ha pasado por distintas versiones, encontrándose hoy en día en las versiones 3.X.\n",
        "\n",
        "## Popularidad\n",
        "![](https://raw.githubusercontent.com/Vokturz/Curso-Python-BCCh/main/clase1/tiobe_index.png) \\\\\n",
        "_Fuente: https://www.tiobe.com/tiobe-index/_\n",
        "\n",
        "![](https://github.com/Vokturz/Curso-Python-BCCh/blob/main/clase1/language_popularity_stackoverflow.png?raw=true) \\\\\n",
        "_Fuente: https://survey.stackoverflow.co/2023/#most-popular-technologies-language_\n",
        "\n",
        "**¿Qué hace tan popular a Python?**\n",
        "- Curva de aprendizaje muy pequeña: fácil de aprender para gente no experimentada\n",
        "- Versatilidad: Puede ser usado para desarrollar páginas web y aplicaciones, automatizar tareas, realizar análisis de datos, modelamiento, desarrollo de juegos, etc.\n",
        "- Librerías: Existen un montón de librerías para diferentes especialides. En este curso en particular veremos las librerías:\n",
        "  - `numpy`\n",
        "  - `pandas`\n",
        "  - `matplotlib`\n",
        "  - `seaborn`\n",
        "\n",
        "Aplicaciones populares escritas en Python son:\n",
        "1. Google\n",
        "2. Youtube\n",
        "3. Netflix\n",
        "4. Spotify\n",
        "5. Instagram\n",
        "6. Pinterest\n",
        "7. Uber\n",
        "\n",
        "## Puntos importantes a considerar\n",
        "\n",
        "- A diferencia de otros lenguajes de programación, Python utiliza **indentación** en su sintaxis\n",
        "- No requiere declarar el tipo de las variables\n",
        "- Es un **lenguaje interpretado**, es decir, el código se va ejecutando línea por línea. Esto lo hace más lento que los lenguajes compilados, pero ofrece mayor flexibilidad durante el desarrollo\n",
        "  - Esto permite ejecutar Python de forma interactiva!\n",
        "\n",
        "```python\n",
        "# Ejemplo en Python\n",
        "def es_par(numero):\n",
        "  if numero % 2 == 0:\n",
        "    return \"El número es par\"\n",
        "  else:\n",
        "    return \"El número es impar\"\n",
        "```\n",
        "\n",
        "```c\n",
        "// Ejemplo en C\n",
        "const char* es_par(int numero) {\n",
        "    if (numero % 2 == 0) {\n",
        "        return \"El número es par.\";\n",
        "    } else {\n",
        "        return \"El número es impar.\";\n",
        "    }\n",
        "}\n",
        "```\n",
        "\n",
        "## Instalación\n",
        "El ambiente en la nube provisto por el Banco ua posee instalado Python, pero si desean instalarlo en sus computadores personales existen las siguientes opciones:\n",
        "\n",
        "#### Descargar Python desde la página oficial\n",
        "Pueden entrar a https://www.python.org/downloads/ y descargar la versión que estimen conveniente. Como recomendación elegiría dos versiones anteriores a la actual por temas de compatibilidad con librerías, es decir, si están en la versión 3.12, descargar la versión 3.10.\n",
        "\n",
        "#### Descargar Anaconda (**Recomendada**)\n",
        "Anaconda es una distribución de Python orientada al análisis de datos y aprendizaje automático. Pueden entrar a https://www.anaconda.com/download para descargarlo. Esta opción es la recomendada ya que instala las principales librerías usados en el área.\n",
        "\n",
        "## Como ejecutar código Python\n",
        "Los archivos (scripts) en lenguaje Python se guardan en formato `.py`, una vez creados se pueden ejecutar usando la IDLE Shell de Python, o bien ejecutando en consola `python archivo.py`.\n",
        "\n",
        "Python permite un uso interactivo, ejemplos de ello son:\n",
        "- Intérprete de python: Desde una consola se puede acceder con el comando `python`. En Windows se puede abrir la IDLE Shell directamente una vez instalado Python.\n",
        "- Shell interactiva (iPython): Desde una consola se puede acceder con el comando `ipython`. Este modo viene instalado por defecto con Anaconda y agrega un *nuevo* nivel de interactividad: **Jupyter Notebooks**.\n",
        "- Jupyter Notebook: Son archivos en formato `.ipynb` (como este!). Integra mejoras en comparación a correr archivos desde un script o terminal. Para este curso son importantes estas tres:\n",
        "  - Celdas (chunks): Ejecución de bloques de código\n",
        "  - Texto enriquecido: Se puede combinar código con texto en formato Markdown\n",
        "  - Visualizaciones: Los gráficos se muestran directamente en el mismo archivo\n",
        "\n",
        "En este curso recomendamos el uso de *Jupyter Notebooks*. Estos archivos pueden ser ejecutados usando [Google Colab](https://colab.google/), o bien levantando un servicio de forma local al instalar jupyter y usando el comando `jupyter notebook` (o `jupyter lab`) en consola. Anaconda instala jupyter por defecto."
      ],
      "metadata": {
        "id": "t-FPJQV3GdT8"
      }
    },
    {
      "cell_type": "markdown",
      "source": [
        "# Instrucciones básicas e impresión en pantalla\n",
        "\n",
        "## Comentarios\n",
        "Una utilidad importante en los lenguajes de programación es la de comentar el código, lo que permite ir dejando notas para aclarar ciertas partes del código, o incluso desactivar temporalmente alguna parte del código. En Python, los comentarios parten con \"#\", acá un ejemplo:\n",
        "```python\n",
        "es_par(2) # Esto si se ejecutaría\n",
        "# es_par(2) # Esto no se ejecutaría\n",
        "```\n",
        "## Variables\n",
        "En otros lenguajes el tipo de la variable debe ser declarado al momento de inicializarla. Por ejemplo, si quiero definir un variable como un entero en C  debemos declararla como `int a = 2;`, indicando que la variable `a` tendrá como valor `2`. En Python esto no es necesario, pues el mísmo intérprete se encarga de definir el tipo. A continuación algunos ejemplos, notar que no se utiliza \";\" para terminar la asignación! solo basta el saldo de línea."
      ],
      "metadata": {
        "id": "1D8GKuuFi5n7"
      }
    },
    {
      "cell_type": "code",
      "source": [
        "# enteros (int)\n",
        "un_int = 2\n",
        "# punto flotante (float)\n",
        "un_float = 3.5\n",
        "# caracter (char, aunque en python se considera str)\n",
        "un_char = \"H\"\n",
        "# cadena de caracteres (str)\n",
        "un_string = \"Hola Mundo\"\n",
        "# cadena de caracteres muy grande (str)\n",
        "un_gran_string = \"\"\"Lorem ipsum dolor sit amet, consectetur adipiscing elit.\n",
        "Proin tempus orci a dolor pulvinar vestibulum.\n",
        "Donec sit amet leo at nunc bibendum mattis non ac ligula.\n",
        "Morbi vel metus bibendum, sagittis metus eget, ullamcorper nulla.\n",
        "\"\"\"\n",
        "# booleanos (bool)\n",
        "un_bool = True # El otro es False\n",
        "# listas (list)\n",
        "una_lista = [1,2,3,4,5]\n",
        "# otra lista con distintos tipos de variables\n",
        "lista_variable = [un_int, un_float, un_char, un_string, un_bool]"
      ],
      "metadata": {
        "id": "OEaF2_oLGuSH"
      },
      "execution_count": null,
      "outputs": []
    },
    {
      "cell_type": "markdown",
      "source": [
        "Podemos averiguar el tipo de una variable usando la función `type` de Python"
      ],
      "metadata": {
        "id": "0wnklPpry_PC"
      }
    },
    {
      "cell_type": "code",
      "source": [
        "type(3.5)"
      ],
      "metadata": {
        "id": "U_LMp3Dey6ID"
      },
      "execution_count": null,
      "outputs": []
    },
    {
      "cell_type": "markdown",
      "source": [
        "Los nombres de variables en python solo pueden contener letras, números y \"_\", y estos no pueden empezar con un número"
      ],
      "metadata": {
        "id": "zv9b3zbt4oen"
      }
    },
    {
      "cell_type": "code",
      "source": [
        "1_variable = \"1\""
      ],
      "metadata": {
        "id": "iEO2zaN24nfn"
      },
      "execution_count": null,
      "outputs": []
    },
    {
      "cell_type": "markdown",
      "source": [
        "## Imprimir en Pantalla\n",
        "Imprimir en pantalla se refiere a mostrar en consola (pantalla) cierta información que el usuario quiere mostrar. En python, se utiliza la función `print`.\n",
        "\n",
        "*Notar que en notebooks el ejecutar una celda mostrará el resultado de la última expresión, siempre y cuando el resultado de dicha expresión produzca un resultado visible."
      ],
      "metadata": {
        "id": "nZxUfnbWzlHp"
      }
    },
    {
      "cell_type": "code",
      "source": [
        "tipo_string = type(un_string)\n",
        "tipo_string # Esta línea no se mostrará en pantalla\n",
        "print(un_string)"
      ],
      "metadata": {
        "id": "P_rwcT6yzLaZ"
      },
      "execution_count": null,
      "outputs": []
    },
    {
      "cell_type": "markdown",
      "source": [
        "Dentro de `print` podemos agregar elementos que no son necesariamente un string, como enteros o valores de punto flotantes. Ahora bien, si queremos concatenar variables, debemos pasarlas a string"
      ],
      "metadata": {
        "id": "cfqLlTEA2Cjo"
      }
    },
    {
      "cell_type": "code",
      "source": [
        "print(un_float)\n",
        "\n",
        "# Todas estas formas son análogas\n",
        "print(\"El valor de un_float es \" + str(un_float))\n",
        "print(\"El valor de un_float es {}\".format(un_float))\n",
        "print(\"El valor de un_float es %.1f\" %un_float) # estilo similar a C\n",
        "print(f\"El valor de un_float es {un_float}\") # Mi favorita, notar la f del principio\n",
        "\n",
        " # Tambien podemos pasarle varios parametros a print!\n",
        "print(\"El valor de un_float es\", un_float)\n"
      ],
      "metadata": {
        "id": "4lXq26K715jU"
      },
      "execution_count": null,
      "outputs": []
    },
    {
      "cell_type": "markdown",
      "source": [
        "## Operaciones Aritméticas y Comparativas\n",
        "Al igual que otros lenguajes, podemos aplicar distintas operaciones entre variables"
      ],
      "metadata": {
        "id": "rM0sEswt3J9n"
      }
    },
    {
      "cell_type": "code",
      "source": [
        "# Operaciones aritméticas\n",
        "3+3.6+1 # 7.6, suma\n",
        "5-2 # 3, resta\n",
        "3*2 # 6, multiplicación\n",
        "10/4 # 2.5, división\n",
        "10//4 # 2, división parte entera\n",
        "9%4 # 1, resto de una división\n",
        "4**2 # 16, potencia de 2\n",
        "\n",
        "# Comparativas, el resultado es un boolean (True o False)\n",
        "4>3 # True, mayor que\n",
        "4>3 # False, menor que\n",
        "4==4 # True, igual que\n",
        "4!=3 # True, distinto que\n",
        "4>=4 # True, mayor o igual que\n",
        "\n",
        "# Comparativas entre booleanos, el resultado es otro boolean\n",
        "True and True # True\n",
        "True and False # False\n",
        "True or False # True\n",
        "\n",
        "# Negacion de booleanos, el resultado es otro boolean\n",
        "not True # False\n",
        "not False # True\n",
        "\n",
        "# Operacion \"in\" con lista\n",
        "1 in [1,2,3] # True\n",
        "4 not in [1,2,3] # True"
      ],
      "metadata": {
        "id": "GOQwV6W22OSs"
      },
      "execution_count": null,
      "outputs": []
    },
    {
      "cell_type": "markdown",
      "source": [
        "# Control de Flujo\n",
        "\n",
        "## Condicionales `if`, `elif`, `else`\n",
        "Los condicionales sirven para ver si una variable cumple cierta condición (por ejemplo, una operación comparativa). La sintaxis es la siguiente\n",
        "\n",
        "```python\n",
        "if condicion1: # Si condicion1 es True, entonces\n",
        "  ... # hacer algo\n",
        "elif condicion2: # Si no lo es, ver si condicion2 es True, entonces\n",
        "  ... # hacer otra cosa\n",
        "else: Si ninguna condicion se cumple, entonces\n",
        "  ... # hacer alguna otra cosa\n",
        "```\n",
        "Las condiciones pueden ir concatenadas usando los comparadores de booleanos `and` y `or`, por ejemplo\n",
        "```python\n",
        "if (condicion1 and condicion2): # El uso de parentesis no es obligatorio\n",
        "  ... # hacer algo\n",
        "```\n",
        "Notar la **identación** despues de los dos puntos, esto quiere decir que todo lo identado es parte de lo que se ejecutará si se cumple la condición. Este es el simil de muchos lenguajes de programación donde se usa `{...}` para bloques de ejecución.\n",
        "\n",
        "\n",
        "A continuación un ejemplo, que creen que imprimirá en pantalla?"
      ],
      "metadata": {
        "id": "AvHnXYch51UP"
      }
    },
    {
      "cell_type": "code",
      "source": [
        "if un_float >= 4:\n",
        "  print(\"respuesta 1\")\n",
        "elif un_float > 3.5:\n",
        "  print(\"respuesta 2\")\n",
        "elif un_float > 0 and not False:\n",
        "  print(\"respuesta 3\")\n",
        "else:\n",
        "  print(\"respuesta 4\")"
      ],
      "metadata": {
        "id": "f0JGgpl44hzA"
      },
      "execution_count": null,
      "outputs": []
    },
    {
      "cell_type": "markdown",
      "source": [
        "## Ciclos `for`, `while`\n",
        "\n",
        "### `for`\n",
        "El ciclo `for` se utiliza para iterar sobre una variable que se compone de varios elementos. La sintaxis es la siguiente:\n",
        "```python\n",
        "for elemento in lista: # Para cada elemento en lista\n",
        "  ... # hacer algo\n",
        "```\n",
        "\n",
        "Ejemplo"
      ],
      "metadata": {
        "id": "o063q1t98xdX"
      }
    },
    {
      "cell_type": "code",
      "source": [
        "lista = [0,1,2,3]\n",
        "for i in lista: # i serán los elementos en la lista\n",
        "  print(i**2) # imprimir el cuadrado de cada uno"
      ],
      "metadata": {
        "id": "3W04i7t08GK9"
      },
      "execution_count": null,
      "outputs": []
    },
    {
      "cell_type": "markdown",
      "source": [
        "En programación muchas veces se quiere iterar sobre una lista de enteros que van desde un número a otro número. Python tiene la función `range` para ello:"
      ],
      "metadata": {
        "id": "s42zj9Mh-Jqk"
      }
    },
    {
      "cell_type": "code",
      "source": [
        "# Esto es muy similar a la sintaxis (int i=0; i<5; i++) en lenguajes como C\n",
        "for i in range(0,4): # 0 se incluye, 4 se excluye\n",
        "  print(i**2)\n",
        "\n",
        "# vemos que es igual a la lista creada anteriormente:\n",
        "print(\"son iguales?\", list(range(0,4))==[0,1,2,3])\n",
        "\n",
        "# Si tienen dudas de como usar range, pueden consultar ayuda ejecutando:\n",
        "# ?range # En colab se mostrará un cuadro de ayuda a la derecha\n",
        "# help(range) # Imprimirá en pantalla la información de range"
      ],
      "metadata": {
        "id": "0HjKhBxi-CLf"
      },
      "execution_count": null,
      "outputs": []
    },
    {
      "cell_type": "markdown",
      "source": [
        "Los elementos no tienen que ser todos del mismo tipo, por ejemplo, podemos iterar sobre la lista `lista_variable` definida al principio:"
      ],
      "metadata": {
        "id": "XsgsyHiWAKEj"
      }
    },
    {
      "cell_type": "code",
      "source": [
        "for var in lista_variable:\n",
        "  print(var)"
      ],
      "metadata": {
        "id": "lhHxlhLrAQ_x"
      },
      "execution_count": null,
      "outputs": []
    },
    {
      "cell_type": "markdown",
      "source": [
        "### `while`\n",
        "\n",
        "El ciclo `while` quiere decir que mientras se cumpla la condición, se volverá a ejecutar el código dentro del ciclo. La sintaxis es la siguiente\n",
        "```python\n",
        "while condicion:\n",
        "  ... # hacer algo\n",
        "```\n",
        "\n",
        "Al usar un ciclo `while` es importante tener implementado algo que torne la condición a `False`, si no, estaremos dentro de un bucle infinito.\n",
        "\n",
        "A continuación un ejemplo:"
      ],
      "metadata": {
        "id": "dGrzJJ2X_0SH"
      }
    },
    {
      "cell_type": "code",
      "source": [
        "i = 0 # i parte en 0\n",
        "while i<4: # mientras i sea menor a 4\n",
        "  print(i**2)\n",
        "  i += 1 # esto es lo mismo que decir i = i + 1"
      ],
      "metadata": {
        "id": "WLeSEH49-hvY"
      },
      "execution_count": null,
      "outputs": []
    },
    {
      "cell_type": "markdown",
      "source": [
        "## Libros, tutoriales y más\n",
        "- La misma [página de Python](https://docs.python.org/es/3.10/tutorial/) tiene un tutorial en español\n",
        "- [W3School](https://www.w3schools.com/python/) tiene tutoriales online para familiarizarse con Python\n",
        "- En [The Hitchhiker’s Guide to Python!](https://docs.python-guide.org/) hay un montón de guías, tanto para principiantes como para avanzados\n",
        "- En [StackOverFlow - Python](https://stackoverflow.com/questions/tagged/python) existe una gran comunidad que responde dudas con Python\n",
        "- Siempre puedes consultarle a [ChatGPT](https://chat.openai.com/) tus dudas! Pero **ojo**, las respuestas que da no siempre son las correctas\n"
      ],
      "metadata": {
        "id": "bgwPqO1bCjg5"
      }
    },
    {
      "cell_type": "code",
      "source": [],
      "metadata": {
        "id": "Zt5fmQiQEr39"
      },
      "execution_count": null,
      "outputs": []
    }
  ]
}