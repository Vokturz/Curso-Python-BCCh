{
  "nbformat": 4,
  "nbformat_minor": 0,
  "metadata": {
    "colab": {
      "provenance": [],
      "authorship_tag": "ABX9TyMgATw84JyKyk86Hw8WggTH",
      "include_colab_link": true
    },
    "kernelspec": {
      "name": "python3",
      "display_name": "Python 3"
    },
    "language_info": {
      "name": "python"
    }
  },
  "cells": [
    {
      "cell_type": "markdown",
      "metadata": {
        "id": "view-in-github",
        "colab_type": "text"
      },
      "source": [
        "<a href=\"https://colab.research.google.com/github/Vokturz/Curso-Python-BCCh/blob/main/clase5/Clase5_Visualizacion.ipynb\" target=\"_parent\"><img src=\"https://colab.research.google.com/assets/colab-badge.svg\" alt=\"Open In Colab\"/></a>"
      ]
    },
    {
      "cell_type": "markdown",
      "source": [
        "# Visualización\n",
        "\n",
        "La visualización es una parte esencial de cualquier análisis de datos, ya que facilita la comprensión de complejas estructuras de datos y resalta patrones, tendencias y anomalías en los datos. En sí, la visualización nos permite\n",
        "\n",
        "1. Una comprensión rápida de los datos\n",
        "2. Descubrimiento de patrones\n",
        "3. Tomar mejores decisiones\n",
        "\n",
        "La librería más común para la visualización de datos es [**Matplotlib**](https://matplotlib.org/). Adicionalmente, miraremos la librería [**Seaborn**](https://seaborn.pydata.org/), que está basada en Matplotlib y proporciona una interfas de alto nivel para la creación de gráficos más atractivos.\n",
        "\n",
        "## Matplotlib\n",
        "\n",
        "![](https://matplotlib.org/stable/_images/sphx_glr_scatter_demo2_001.png)\n",
        "> *Ejemplo de un gráfico realizado con matplotlib*\n",
        "\n",
        "Matplotlib es la librería más usada en cuanto visualización. Tiene una enorme versatilidad, permitiendole al usuario crear desde histogramas y diagramas de dispersión hasta gráficos tridimensionales. Para importar el módulo que permite realizar gráficos debemos importar `pyplot` desde `matplotlib`, la forma más usual de hacer esto es:\n",
        "```python\n",
        "import matplotlib.pyplot as plt\n",
        "\n",
        "x = [1,2,3,4,5]\n",
        "y = [1,2,3,4,5]\n",
        "\n",
        "plt.plot(x, y) # gráfico de línea\n",
        "plt.show() # mostramos el gráfico\n",
        "```\n",
        "\n",
        "Algunos de los tipos de gráficos que se pueden crear con Matplotlib son:\n",
        "\n",
        "1. `plot`: Líneas\n",
        "2. `hist`: Histograma\n",
        "3. `scatter`: Dispersión\n",
        "4. `bar` y `barh`: Barras (y barras horizontales)\n",
        "5. `pie`: Torta\n",
        "6. `boxplot`: Diagramas de caja\n",
        "7. `errorbar`: Gráficos de error\n",
        "8. `imshow`: Imágenes\n",
        "\n",
        "Pueden visitar la [documentación de Matplotlib](https://matplotlib.org/stable/api/pyplot_summary.html#adding-data-to-the-plot) para más información.\n",
        "\n",
        "Adicionalmente a crear un gráfico, podemos personalizarlo modificando la escala del gráfico (por ejemplo, pasar a escala logarítmica uno de los ejes), cambiar las etiquetas de los ejes, agregar un título, una leyenda, etc.\n",
        "\n"
      ],
      "metadata": {
        "id": "gwvD6LFVKnow"
      }
    },
    {
      "cell_type": "code",
      "execution_count": null,
      "metadata": {
        "id": "eaE7QwAWYka7"
      },
      "outputs": [],
      "source": [
        "import numpy as np\n",
        "import matplotlib.pyplot as plt\n",
        "\n",
        "# generaramos 1000 elementos con media 0 y std 1\n",
        "x = np.random.normal(0, 1,  1000)\n",
        "# generamos 1000 elementos con media 1 y std 1\n",
        "y = np.random.normal(1, 1,  1000)"
      ]
    },
    {
      "cell_type": "code",
      "source": [
        "plt.hist(x, bins=20)\n",
        "plt.show()"
      ],
      "metadata": {
        "id": "BGosYY3gQBOX"
      },
      "execution_count": null,
      "outputs": []
    },
    {
      "cell_type": "code",
      "source": [
        "# Matplotlib genera un nuevo color por cada elemento agregado al gráfico\n",
        "plt.hist(x, bins=20)\n",
        "plt.hist(y, bins=20)\n",
        "plt.show()"
      ],
      "metadata": {
        "id": "gpKhyoZ6PGIl"
      },
      "execution_count": null,
      "outputs": []
    },
    {
      "cell_type": "code",
      "source": [
        "# Podemos embellecer un poco nuestros histogramas\n",
        "plt.hist(x, bins=20,\n",
        "         alpha=0.5, # alpha agrega opacidad\n",
        "         label=\"x\", # una etiqueta para la leyenda\n",
        "         color=\"purple\") # Nosotros mismos elegimos el color\n",
        "\n",
        "# El color puede ser un nombre, así como un código hexadecimal\n",
        "plt.hist(y, bins=20, alpha=0.5, label=\"y\", color=\"#74d5ff\")\n",
        "\n",
        "plt.legend(loc=\"upper left\", # Leyenda ubicada en la esquina superior izquierda\n",
        "           title=\"Valores\") # Título para la leyenda\n",
        "plt.title(\"Título del gráfico\")\n",
        "plt.xlabel(\"Etiqueta eje X\")\n",
        "plt.ylabel(\"Frequencia\")\n",
        "plt.show()"
      ],
      "metadata": {
        "id": "9YimvMgTPLTp"
      },
      "execution_count": null,
      "outputs": []
    },
    {
      "cell_type": "code",
      "source": [
        "plt.scatter(x, y, s=5)\n",
        "# sabemos que el punto 0,1 debería ser el centro\n",
        "plt.scatter(0, 1, marker=\"x\", color=\"red\")\n",
        "\n",
        "plt.grid() # agregamos una grilla\n",
        "plt.xlim([-2, 2]) # modificamos los límites del eje x\n",
        "plt.xlabel(\"Etiqueta eje X\")\n",
        "plt.ylabel(\"Etiqueta eje Y\")\n",
        "plt.show()"
      ],
      "metadata": {
        "id": "C0dNDaU0RGaL"
      },
      "execution_count": null,
      "outputs": []
    },
    {
      "cell_type": "code",
      "source": [
        "# Podemos  modificar el tamaño\n",
        "fig, ax = plt.subplots(figsize=(5,3))\n",
        "plt.scatter(x, y, s=5)\n",
        "plt.scatter(0, 1, marker=\"x\", color=\"red\")\n",
        "plt.grid()\n",
        "plt.xlim([-2, 2])\n",
        "plt.xlabel(\"Etiqueta eje X\")\n",
        "plt.ylabel(\"Etiqueta eje Y\")\n",
        "plt.show()"
      ],
      "metadata": {
        "id": "KwnKWYhNU6o9"
      },
      "execution_count": null,
      "outputs": []
    },
    {
      "cell_type": "code",
      "source": [
        "# Similar, pero usando el elemento ax (del tipo axes)\n",
        "fig, ax = plt.subplots(figsize=(5,3))\n",
        "print(type(ax))\n",
        "ax.scatter(x, y, s=5)\n",
        "ax.scatter(0, 1, marker=\"x\", color=\"red\")\n",
        "ax.grid()\n",
        "ax.set_xlim([-2, 2])\n",
        "ax.set_xlabel(\"Etiqueta eje X\")\n",
        "ax.set_ylabel(\"Etiqueta eje Y\")\n",
        "plt.show()"
      ],
      "metadata": {
        "id": "C4Lg45NCVNKx"
      },
      "execution_count": null,
      "outputs": []
    },
    {
      "cell_type": "markdown",
      "source": [
        "En Matplotlib, los `axes` (ejé en inglés) representan un gráfico (o subgráfico) dentro de una figura. Básicamente, corresponde a el espacio donde se dibujan los puntos de datos. La diferencia entre usar directamente `plt.` y `ax.` está en que el último te da más control, sobre todo en figuras que se componen de más de un gráfico"
      ],
      "metadata": {
        "id": "zAjKAB9JWExz"
      }
    },
    {
      "cell_type": "markdown",
      "source": [
        "### Integración con Pandas\n",
        "\n",
        "Pandas integra Matplotlib directamente, de forma que podemos graficar usando los nombres de las columnas. Para ejemplificar, cargaremos el conjunto de datos de la Flor Iris, uno de los primeros conjunto de datos en la literatura, y ampliamente usado para ejemplificar\n",
        "\n",
        "<div>\n",
        "<img src=\"https://github.com/Vokturz/Curso-Python-BCCh/blob/main/clase5/iris_dalle3.png?raw=true\" width=400/>\n",
        "</div>"
      ],
      "metadata": {
        "id": "YOC3wzWZS-te"
      }
    },
    {
      "cell_type": "code",
      "source": [
        "import pandas as pd\n",
        "df_iris = pd.read_csv(\"https://raw.githubusercontent.com/pandas-dev/pandas/main/pandas/tests/io/data/csv/iris.csv\")\n",
        "df_iris.sample(5) # Una muestra de 5 elementos"
      ],
      "metadata": {
        "id": "qKqOXO73Tm3u"
      },
      "execution_count": null,
      "outputs": []
    },
    {
      "cell_type": "code",
      "source": [
        "df_iris.plot.scatter(\"SepalLength\", \"SepalWidth\")"
      ],
      "metadata": {
        "id": "s65q8Tj0UNnu"
      },
      "execution_count": null,
      "outputs": []
    },
    {
      "cell_type": "code",
      "source": [
        "# Podemos intentar agregar color según Name\n",
        "for name in df_iris[\"Name\"].unique(): # para cada nombre único\n",
        "  df_name = df_iris[df_iris[\"Name\"]==name]\n",
        "  df_name.plot.scatter(\"SepalLength\", \"SepalWidth\")"
      ],
      "metadata": {
        "id": "UI0atHJZUYPw"
      },
      "execution_count": null,
      "outputs": []
    },
    {
      "cell_type": "code",
      "source": [
        "print(df_iris[\"Name\"].unique())"
      ],
      "metadata": {
        "id": "717-EWW1Xln6"
      },
      "execution_count": null,
      "outputs": []
    },
    {
      "cell_type": "code",
      "source": [
        "# Podemos agregar color según Name\n",
        "# Debemos inicializar una figura, y decirle que grafique siempre en el mismo ax\n",
        "fig, ax = plt.subplots() # tamaño por defecto\n",
        "\n",
        "# Asignamos colores\n",
        "colors = {\"Iris-setosa\": \"purple\",\n",
        "          \"Iris-versicolor\" : \"orange\",\n",
        "          \"Iris-virginica\" : \"green\"}\n",
        "\n",
        "# Asignamos marcadores\n",
        "markers = {\"Iris-setosa\": \"o\",\n",
        "          \"Iris-versicolor\" : \"s\", #squares\n",
        "          \"Iris-virginica\" : \"x\"}\n",
        "\n",
        "for name in df_iris[\"Name\"].unique(): # para cada nombre único\n",
        "  df_name = df_iris[df_iris[\"Name\"]==name]\n",
        "  df_name.plot.scatter(\"SepalLength\", \"SepalWidth\",\n",
        "                       ax=ax, # que grafique sobre ax\n",
        "                       color=colors[name], # que use el color asignado\n",
        "                       marker=markers[name], # que use el marcador asignado\n",
        "                       label=name) # que\n",
        "ax.set_title(\"Iris Dataset\")\n",
        "ax.legend()"
      ],
      "metadata": {
        "id": "HICfyv8dU2z2"
      },
      "execution_count": null,
      "outputs": []
    }
  ]
}