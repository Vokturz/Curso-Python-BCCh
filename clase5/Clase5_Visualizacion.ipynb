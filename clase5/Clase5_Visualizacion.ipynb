{
  "nbformat": 4,
  "nbformat_minor": 0,
  "metadata": {
    "colab": {
      "provenance": [],
      "authorship_tag": "ABX9TyMotN5Li1trTT9dq4o5h682",
      "include_colab_link": true
    },
    "kernelspec": {
      "name": "python3",
      "display_name": "Python 3"
    },
    "language_info": {
      "name": "python"
    }
  },
  "cells": [
    {
      "cell_type": "markdown",
      "metadata": {
        "id": "view-in-github",
        "colab_type": "text"
      },
      "source": [
        "<a href=\"https://colab.research.google.com/github/Vokturz/Curso-Python-BCCh/blob/main/clase5/Clase5_Visualizacion.ipynb\" target=\"_parent\"><img src=\"https://colab.research.google.com/assets/colab-badge.svg\" alt=\"Open In Colab\"/></a>"
      ]
    },
    {
      "cell_type": "markdown",
      "source": [
        "# Visualización\n",
        "\n",
        "La visualización es una parte esencial de cualquier análisis de datos, ya que facilita la comprensión de complejas estructuras de datos y resalta patrones, tendencias y anomalías en los datos. En sí, la visualización nos permite\n",
        "\n",
        "1. Una comprensión rápida de los datos\n",
        "2. Descubrimiento de patrones\n",
        "3. Tomar mejores decisiones\n",
        "\n",
        "La librería más común para la visualización de datos es [**Matplotlib**](https://matplotlib.org/). Adicionalmente, miraremos la librería [**Seaborn**](https://seaborn.pydata.org/), que está basada en Matplotlib y proporciona una interfaz de alto nivel para la creación de gráficos más atractivos.\n",
        "\n",
        "## Matplotlib\n",
        "\n",
        "![](https://matplotlib.org/stable/_images/sphx_glr_scatter_demo2_001.png)\n",
        "> *Ejemplo de un gráfico realizado con matplotlib*\n",
        "\n",
        "Matplotlib es la librería más usada en cuanto visualización. Tiene una enorme versatilidad, permitiendole al usuario crear desde histogramas y diagramas de dispersión hasta gráficos tridimensionales. Para importar el módulo que permite realizar gráficos debemos importar `pyplot` desde `matplotlib`, la forma más usual de hacer esto es:\n",
        "```python\n",
        "import matplotlib.pyplot as plt\n",
        "```\n",
        "\n",
        "Algunos de los tipos de gráficos que se pueden crear con Matplotlib son:\n",
        "\n",
        "1. `plot`: Líneas\n",
        "2. `hist`: Histograma\n",
        "3. `scatter`: Dispersión\n",
        "4. `bar` y `barh`: Barras (y barras horizontales)\n",
        "5. `pie`: Torta\n",
        "6. `boxplot`: Diagramas de caja\n",
        "7. `errorbar`: Gráficos de error\n",
        "8. `imshow`: Imágenes\n",
        "\n",
        "Pueden visitar la [documentación de Matplotlib](https://matplotlib.org/stable/api/pyplot_summary.html#adding-data-to-the-plot) para más información.\n",
        "\n",
        "Adicionalmente a crear un gráfico, podemos personalizarlo modificando la escala del gráfico (por ejemplo, pasar a escala logarítmica uno de los ejes), cambiar las etiquetas de los ejes, agregar un título, una leyenda, etc.\n",
        "\n"
      ],
      "metadata": {
        "id": "gwvD6LFVKnow"
      }
    },
    {
      "cell_type": "code",
      "source": [
        "import matplotlib.pyplot as plt\n",
        "x = [1,2,3,4,5]\n",
        "y = [1,2,3,4,5]\n",
        "\n",
        "plt.plot(x, y, marker='.') # gráfico de línea con marcadores\n",
        "plt.show() # mostramos el gráfico"
      ],
      "metadata": {
        "id": "d4pETlP7X4en"
      },
      "execution_count": null,
      "outputs": []
    },
    {
      "cell_type": "code",
      "execution_count": null,
      "metadata": {
        "id": "eaE7QwAWYka7"
      },
      "outputs": [],
      "source": [
        "import numpy as np\n",
        "\n",
        "# generamos 1000 elementos con media 0 y std 1\n",
        "x = np.random.normal(0, 1,  1000)\n",
        "# generamos 1000 elementos con media 1 y std 1\n",
        "y = np.random.normal(1, 1,  1000)"
      ]
    },
    {
      "cell_type": "code",
      "source": [
        "plt.hist(x, bins=20)\n",
        "plt.show()"
      ],
      "metadata": {
        "id": "BGosYY3gQBOX"
      },
      "execution_count": null,
      "outputs": []
    },
    {
      "cell_type": "code",
      "source": [
        "# Matplotlib genera un nuevo color por cada elemento agregado al gráfico\n",
        "plt.hist(x, bins=20)\n",
        "plt.hist(y, bins=20)\n",
        "plt.show()"
      ],
      "metadata": {
        "id": "gpKhyoZ6PGIl"
      },
      "execution_count": null,
      "outputs": []
    },
    {
      "cell_type": "code",
      "source": [
        "# Podemos embellecer un poco nuestros histogramas\n",
        "plt.hist(x, bins=20,\n",
        "         alpha=0.5, # alpha agrega opacidad\n",
        "         label=\"x\", # una etiqueta para la leyenda\n",
        "         color=\"purple\") # Nosotros mismos elegimos el color\n",
        "\n",
        "# El color puede ser un nombre, así como un código hexadecimal\n",
        "plt.hist(y, bins=20, alpha=0.5, label=\"y\", color=\"#74d5ff\")\n",
        "\n",
        "plt.legend(loc=\"upper left\", # Leyenda ubicada en la esquina superior izquierda\n",
        "           title=\"Valores\") # Título para la leyenda\n",
        "plt.title(\"Título del gráfico\")\n",
        "plt.xlabel(\"Etiqueta eje X\")\n",
        "plt.ylabel(\"Frequencia\")\n",
        "plt.show()"
      ],
      "metadata": {
        "id": "9YimvMgTPLTp"
      },
      "execution_count": null,
      "outputs": []
    },
    {
      "cell_type": "code",
      "source": [
        "plt.scatter(x, y, s=5)\n",
        "# sabemos que el punto 0,1 debería ser el centro\n",
        "plt.scatter(0, 1, marker=\"x\", color=\"red\")\n",
        "\n",
        "plt.grid() # agregamos una grilla\n",
        "plt.xlim([-2, 2]) # modificamos los límites del eje x\n",
        "plt.xlabel(\"Etiqueta eje X\")\n",
        "plt.ylabel(\"Etiqueta eje Y\")\n",
        "plt.show()"
      ],
      "metadata": {
        "id": "C0dNDaU0RGaL"
      },
      "execution_count": null,
      "outputs": []
    },
    {
      "cell_type": "code",
      "source": [
        "# Podemos  modificar el tamaño\n",
        "fig, ax = plt.subplots(figsize=(5,3))\n",
        "plt.scatter(x, y, s=5)\n",
        "plt.scatter(0, 1, marker=\"x\", color=\"red\")\n",
        "plt.grid()\n",
        "plt.xlim([-2, 2])\n",
        "plt.xlabel(\"Etiqueta eje X\")\n",
        "plt.ylabel(\"Etiqueta eje Y\")\n",
        "plt.show()"
      ],
      "metadata": {
        "id": "KwnKWYhNU6o9"
      },
      "execution_count": null,
      "outputs": []
    },
    {
      "cell_type": "code",
      "source": [
        "# Similar, pero usando el elemento ax (del tipo axes)\n",
        "fig, ax = plt.subplots(figsize=(5,3))\n",
        "print(type(ax))\n",
        "ax.scatter(x, y, s=5)\n",
        "ax.scatter(0, 1, marker=\"x\", color=\"red\")\n",
        "ax.grid()\n",
        "ax.set_xlim([-2, 2])\n",
        "ax.set_xlabel(\"Etiqueta eje X\")\n",
        "ax.set_ylabel(\"Etiqueta eje Y\")\n",
        "plt.show()"
      ],
      "metadata": {
        "id": "C4Lg45NCVNKx"
      },
      "execution_count": null,
      "outputs": []
    },
    {
      "cell_type": "markdown",
      "source": [
        "En Matplotlib, los `axes` (ejé en inglés) representan un gráfico (o subgráfico) dentro de una figura. Básicamente, corresponde a el espacio donde se dibujan los puntos de datos. La diferencia entre usar directamente `plt.` y `ax.` está en que el último te da más control, sobre todo en figuras que se componen de más de un gráfico."
      ],
      "metadata": {
        "id": "zAjKAB9JWExz"
      }
    },
    {
      "cell_type": "code",
      "source": [
        "# Podemos simular una serie de tiempo\n",
        "\n",
        "np.random.seed(2) # Para obtener siempre los mismos numeros aleatorios\n",
        "\n",
        "x = np.random.choice(1000, 400) # 400 numeros aleatorios entre 0 y 1000\n",
        "x = np.sort(x) # los ordenamos\n",
        "\n",
        "y_error = np.random.normal(0, 2, len(x)) # generamos un error\n",
        "y = np.cumsum(np.random.normal(0, 2,  len(x))) # generamos y\n",
        "y += y_error # le agregamos el error\n",
        "\n",
        "# Tambien podemos usar plt.figure para solo ajustar el tamaño de la figura\n",
        "fig = plt.figure(figsize=(12,4))\n",
        "\n",
        "# Graficamos la serie sin errores\n",
        "plt.plot(x, y - y_error, linestyle=\"--\", label=\"serie sin error\", color=\"red\")\n",
        "\n",
        "# Graficamos la serie con errores usando plt.errobar\n",
        "plt.errorbar(x, y, yerr=np.abs(y_error),\n",
        "             linestyle='', linewidth=1,\n",
        "             marker='.', markersize=3,\n",
        "             capsize=2, color=\"k\",\n",
        "             label=\"serie con error\")\n",
        "\n",
        "plt.legend()\n",
        "# plt.grid() # agregamos una grilla\n",
        "# plt.xlim([0, 1000]) # limitamos a que el eje x esté entre 0 y 1000\n",
        "# plt.xticks(range(0, 1001, 100)) # queremos una division cada 100 numeros\n",
        "plt.show()"
      ],
      "metadata": {
        "id": "84q0dlBOlDFr"
      },
      "execution_count": null,
      "outputs": []
    },
    {
      "cell_type": "markdown",
      "source": [
        "### Integración con Pandas\n",
        "\n",
        "Pandas integra Matplotlib directamente, de forma que podemos graficar usando los nombres de las columnas. Para ejemplificar, cargaremos el conjunto de datos de la Flor Iris, uno de los primeros conjunto de datos en la literatura, y ampliamente usado para ejemplificar\n",
        "\n",
        "<div>\n",
        "<img src=\"https://github.com/Vokturz/Curso-Python-BCCh/blob/main/clase5/iris_dalle3.png?raw=true\" width=400/>\n",
        "</div>"
      ],
      "metadata": {
        "id": "YOC3wzWZS-te"
      }
    },
    {
      "cell_type": "code",
      "source": [
        "import pandas as pd\n",
        "df_iris = pd.read_csv(\"https://raw.githubusercontent.com/pandas-dev/pandas/main/pandas/tests/io/data/csv/iris.csv\")\n",
        "df_iris.sample(5) # Una muestra de 5 elementos"
      ],
      "metadata": {
        "id": "qKqOXO73Tm3u"
      },
      "execution_count": null,
      "outputs": []
    },
    {
      "cell_type": "code",
      "source": [
        "df_iris.plot.scatter(\"SepalLength\", \"SepalWidth\")"
      ],
      "metadata": {
        "id": "s65q8Tj0UNnu"
      },
      "execution_count": null,
      "outputs": []
    },
    {
      "cell_type": "code",
      "source": [
        "print(df_iris[\"Name\"].unique())"
      ],
      "metadata": {
        "id": "717-EWW1Xln6"
      },
      "execution_count": null,
      "outputs": []
    },
    {
      "cell_type": "code",
      "source": [
        "# Podemos agregar color según Name\n",
        "# Debemos inicializar una figura, y decirle que grafique siempre en el mismo ax\n",
        "fig, ax = plt.subplots() # tamaño por defecto\n",
        "\n",
        "# Asignamos colores\n",
        "colors = {\"Iris-setosa\": \"purple\",\n",
        "          \"Iris-versicolor\" : \"orange\",\n",
        "          \"Iris-virginica\" : \"green\"}\n",
        "\n",
        "# Asignamos marcadores\n",
        "markers = {\"Iris-setosa\": \"o\",\n",
        "          \"Iris-versicolor\" : \"s\", #squares\n",
        "          \"Iris-virginica\" : \"x\"}\n",
        "\n",
        "for name in df_iris[\"Name\"].unique(): # para cada nombre único\n",
        "  df_name = df_iris[df_iris[\"Name\"]==name]\n",
        "  df_name.plot.scatter(\"SepalLength\", \"SepalWidth\",\n",
        "                       ax=ax, # que grafique sobre ax\n",
        "                       color=colors[name], # que use el color asignado\n",
        "                       marker=markers[name], # que use el marcador asignado\n",
        "                       label=name) # que\n",
        "ax.set_title(\"Iris Dataset\")\n",
        "ax.legend()\n",
        "plt.show()"
      ],
      "metadata": {
        "id": "HICfyv8dU2z2"
      },
      "execution_count": null,
      "outputs": []
    },
    {
      "cell_type": "code",
      "source": [
        "# Un boxplot de SepalLength según Name\n",
        "print(df_iris.groupby(\"Name\")[\"SepalLength\"].describe())\n",
        "df_iris.boxplot(\"SepalLength\", \"Name\")\n",
        "plt.show()"
      ],
      "metadata": {
        "id": "hDUyYv2nIzxp"
      },
      "execution_count": null,
      "outputs": []
    },
    {
      "cell_type": "code",
      "source": [
        "# Gráficos en un esquema 1x3\n",
        "# en este caso axes es una array de dimension 3\n",
        "fig, axes = plt.subplots(1, 3, figsize=(12,3))\n",
        "col_y = \"SepalLength\"\n",
        "columnas = list(df_iris.columns[:-1])\n",
        "columnas.remove(col_y)\n",
        "for i in range(len(columnas)):\n",
        "  col_x = columnas[i]\n",
        "  axes[i].scatter(df_iris[col_x], df_iris[col_y])\n",
        "  axes[i].set_xlabel(col_x)\n",
        "  axes[i].set_ylabel(col_y)\n",
        "plt.show()\n",
        "# Veamos que hay en axes\n",
        "axes"
      ],
      "metadata": {
        "id": "LYv7KYjbI3SC"
      },
      "execution_count": null,
      "outputs": []
    },
    {
      "cell_type": "markdown",
      "source": [
        "y que pasa si queremos que algo así funcione para cualquier dataframe?\n",
        "Podemos crear una función!\n",
        "\n",
        "<!--\n",
        "def graficar_columnas(df, col_y, lista_columnas):\n",
        "  columnas = list(lista_columnas) # nos aseguramos que es una lista\n",
        "  total_cols = len(columnas)\n",
        "  fig, axes = plt.subplots(1, total_cols, figsize=(4*total_cols, 3))\n",
        "  for i in range(total_cols):\n",
        "    col_x = columnas[i]\n",
        "    axes[i].scatter(df[col_x], df[col_y])\n",
        "    axes[i].set_xlabel(col_x)\n",
        "    axes[i].set_ylabel(col_y)\n",
        "  plt.show()\n",
        "-->"
      ],
      "metadata": {
        "id": "zmgwT3u6MuiH"
      }
    },
    {
      "cell_type": "code",
      "source": [
        "def graficar_columnas(df, col_y, lista_columnas):\n",
        "  columnas = list(lista_columnas) # nos aseguramos que es una lista\n",
        "  # fig, axes = plt.subplots(1, ...\n",
        "  #\n",
        "\n",
        "# Esto debería dar el mismo grafico anterior\n",
        "graficar_columnas(df_iris, \"SepalLength\", [\"SepalWidth\", \"PetalLength\", \"PetalWidth\"])"
      ],
      "metadata": {
        "id": "YG8RFRGPK_ev"
      },
      "execution_count": null,
      "outputs": []
    },
    {
      "cell_type": "markdown",
      "source": [
        "## Seaborn\n",
        "\n",
        "Librería basada en Matplotlib que proporciona una interfaz de alto nivel para crear gráficos atractivos. De Seaborn podemos destacar que\n",
        "1. Es estéticamente agradable. Viene con estilos predefinidos que sonvisualmente atractivos.\n",
        "2. Facilita la realización de gráficos complejos (como por ejemplo asignar colores a un gráfico de dispersión).\n",
        "3. Tiene integración con Pandas!\n",
        "\n",
        "La importación de Seaborn se hace típicamente con:\n",
        "```python\n",
        "import seaborn as sns\n",
        "```\n",
        "\n",
        "Dentro de su página web podemos encontrar una [galería de ejemplo](https://seaborn.pydata.org/examples/index.html), así como la [documentación](https://seaborn.pydata.org/api.html) de cada uno de los métodos."
      ],
      "metadata": {
        "id": "H2RjjepmZ1S-"
      }
    },
    {
      "cell_type": "code",
      "source": [
        "import seaborn as sns\n",
        "\n",
        "# El mismo gráfico de dispersion con colores, pero con seaborn\n",
        "ax = sns.scatterplot(data=df_iris, x=\"SepalLength\", y=\"SepalWidth\", hue=\"Name\",\n",
        "                     palette=\"magma\") # Podemos definir una paleta de colores\n",
        "ax.set_title(\"Iris Dataset\")\n",
        "plt.show()"
      ],
      "metadata": {
        "id": "XvuJ1sYpZNFZ"
      },
      "execution_count": null,
      "outputs": []
    },
    {
      "cell_type": "markdown",
      "source": [
        "La paletas de colores puede ser un [mapa de colores de Matplotlib](https://matplotlib.org/stable/users/explain/colors/colormaps.html), así como una [paleta definida con Seaborn](https://seaborn.pydata.org/tutorial/color_palettes.html).\n",
        "\n",
        "*Nota: En Matplotlib (y en Pandas DataFrame.plot), este campo se llama `cmap`*"
      ],
      "metadata": {
        "id": "XWLfSdKlflH_"
      }
    },
    {
      "cell_type": "code",
      "source": [
        "# Podemos setear un estilo\n",
        "sns.set_style(\"whitegrid\")\n",
        "ax = sns.scatterplot(data=df_iris, x=\"SepalLength\", y=\"SepalWidth\", hue=\"Name\")\n",
        "ax.set_title(\"Iris Dataset\")\n",
        "plt.show()"
      ],
      "metadata": {
        "id": "nTBVTm_ufkmm"
      },
      "execution_count": null,
      "outputs": []
    },
    {
      "cell_type": "code",
      "source": [
        "sns.reset_defaults() # Volvemos al estilo por defecto\n",
        "\n",
        "print(df_iris.groupby(\"Name\")[\"SepalWidth\"].describe())\n",
        "\n",
        "# Dado que hay varios valores de SepalWidth, por defecto graficará el promedio\n",
        "# Junto a un intervalo de confianza del 95%\n",
        "ax = sns.barplot(data=df_iris, x=\"Name\", y=\"SepalWidth\")\n",
        "plt.show()"
      ],
      "metadata": {
        "id": "GqCsD9cffCWw"
      },
      "execution_count": null,
      "outputs": []
    },
    {
      "cell_type": "code",
      "source": [
        "# Podemos modificarlo un tanto\n",
        "ax = sns.barplot(data=df_iris, y=\"Name\", x=\"SepalWidth\",\n",
        "                 orient=\"h\", # Orientacion horizontal, cambiamos y por x\n",
        "                 estimator=\"max\", # Que grafique el valor máximo\n",
        "                 errorbar=None) # Sin barras de error\n",
        "ax.set_xlabel(\"Max SepalWidth\")\n",
        "plt.show()"
      ],
      "metadata": {
        "id": "RdTHVRxzhALP"
      },
      "execution_count": null,
      "outputs": []
    },
    {
      "cell_type": "code",
      "source": [
        "# Gráfico de densidad\n",
        "ax = sns.kdeplot(data=df_iris, x=\"SepalLength\", y=\"SepalWidth\", hue=\"Name\")\n",
        "ax.set_title(\"Iris Dataset\")\n",
        "plt.show()"
      ],
      "metadata": {
        "id": "UQJRenbaiWbB"
      },
      "execution_count": null,
      "outputs": []
    },
    {
      "cell_type": "code",
      "source": [
        "# Graficar las relaciones entre todas la columnas, usando una como color\n",
        "sns.pairplot(df_iris, hue=\"Name\")\n",
        "plt.show()"
      ],
      "metadata": {
        "id": "XloFqLnwizBf"
      },
      "execution_count": null,
      "outputs": []
    },
    {
      "cell_type": "markdown",
      "source": [
        "# Links de interés\n",
        "- El Banco central posee una [Base de Datos Estadísticos](https://si3.bcentral.cl/siete)\n",
        "- El Instituto Milenio Fundamentos de los datos (IMFD) tiene un [repositorio](https://github.com/imfd/awesome-data-chile) donde listan fuentes públicas de datos"
      ],
      "metadata": {
        "id": "16QU0caWrfs5"
      }
    },
    {
      "cell_type": "code",
      "source": [],
      "metadata": {
        "id": "pIFdfTWWzAzr"
      },
      "execution_count": null,
      "outputs": []
    }
  ]
}